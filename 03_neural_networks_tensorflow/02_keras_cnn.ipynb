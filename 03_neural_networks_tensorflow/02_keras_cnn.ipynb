{
 "cells": [
  {
   "cell_type": "markdown",
   "metadata": {},
   "source": [
    "# CIFAR-10 dataset classification with CNNs\n",
    "\n",
    "Author: Tanwi Mallick, adapting codes from Bethany Lusch, Prasanna Balprakash, Corey Adams, and Kyle Felker\n",
    "\n",
    "In this notebook, we'll continue the CIFAR-10 problem using the Keras API (as included in the TensorFlow library) and incorporating convolutional layers.\n",
    "\n",
    "First, the needed imports."
   ]
  },
  {
   "cell_type": "code",
   "execution_count": 2,
   "metadata": {},
   "outputs": [
    {
     "name": "stderr",
     "output_type": "stream",
     "text": [
      "2022-10-04 20:00:29.959412: I tensorflow/core/platform/cpu_feature_guard.cc:193] This TensorFlow binary is optimized with oneAPI Deep Neural Network Library (oneDNN) to use the following CPU instructions in performance-critical operations:  AVX2 AVX512F AVX512_VNNI FMA\n",
      "To enable them in other operations, rebuild TensorFlow with the appropriate compiler flags.\n",
      "2022-10-04 20:00:31.781878: I tensorflow/core/util/util.cc:169] oneDNN custom operations are on. You may see slightly different numerical results due to floating-point round-off errors from different computation orders. To turn them off, set the environment variable `TF_ENABLE_ONEDNN_OPTS=0`.\n",
      "2022-10-04 20:00:32.868465: W tensorflow/stream_executor/platform/default/dso_loader.cc:64] Could not load dynamic library 'libcudart.so.11.0'; dlerror: libcudart.so.11.0: cannot open shared object file: No such file or directory; LD_LIBRARY_PATH: /cm/shared/apps/slurm/18.08.9/lib64/slurm:/cm/shared/apps/slurm/18.08.9/lib64\n",
      "2022-10-04 20:00:32.868496: I tensorflow/stream_executor/cuda/cudart_stub.cc:29] Ignore above cudart dlerror if you do not have a GPU set up on your machine.\n",
      "2022-10-04 20:00:33.090770: E tensorflow/stream_executor/cuda/cuda_blas.cc:2981] Unable to register cuBLAS factory: Attempting to register factory for plugin cuBLAS when one has already been registered\n",
      "2022-10-04 20:00:44.618836: W tensorflow/stream_executor/platform/default/dso_loader.cc:64] Could not load dynamic library 'libnvinfer.so.7'; dlerror: libnvinfer.so.7: cannot open shared object file: No such file or directory; LD_LIBRARY_PATH: /cm/shared/apps/slurm/18.08.9/lib64/slurm:/cm/shared/apps/slurm/18.08.9/lib64\n",
      "2022-10-04 20:00:44.619338: W tensorflow/stream_executor/platform/default/dso_loader.cc:64] Could not load dynamic library 'libnvinfer_plugin.so.7'; dlerror: libnvinfer_plugin.so.7: cannot open shared object file: No such file or directory; LD_LIBRARY_PATH: /cm/shared/apps/slurm/18.08.9/lib64/slurm:/cm/shared/apps/slurm/18.08.9/lib64\n",
      "2022-10-04 20:00:44.619348: W tensorflow/compiler/tf2tensorrt/utils/py_utils.cc:38] TF-TRT Warning: Cannot dlopen some TensorRT libraries. If you would like to use Nvidia GPU with TensorRT, please make sure the missing libraries mentioned above are installed properly.\n"
     ]
    }
   ],
   "source": [
    "%matplotlib inline\n",
    "\n",
    "import tensorflow as tf\n",
    "\n",
    "import numpy\n",
    "import matplotlib.pyplot as plt\n",
    "import time"
   ]
  },
  {
   "cell_type": "markdown",
   "metadata": {},
   "source": [
    "## CIFAR-10 data set\n",
    "\n",
    "Again we'll load the cifar10 data set. CIFAR-10 dataset contains 32x32 color images from 10 classes: airplane, automobile, bird, cat, deer, dog, frog, horse, ship, truck. If you haven't downloaded it already, it could take a while."
   ]
  },
  {
   "cell_type": "code",
   "execution_count": 3,
   "metadata": {},
   "outputs": [
    {
     "name": "stdout",
     "output_type": "stream",
     "text": [
      "Downloading data from https://www.cs.toronto.edu/~kriz/cifar-10-python.tar.gz\n",
      "170498071/170498071 [==============================] - 4s 0us/step\n"
     ]
    }
   ],
   "source": [
    "(x_train, y_train), (x_test, y_test) = tf.keras.datasets.cifar10.load_data()\n",
    "x_train = x_train.astype(numpy.float32)\n",
    "x_test  = x_test.astype(numpy.float32)\n",
    "\n",
    "x_train /= 255.\n",
    "x_test  /= 255.\n",
    "\n",
    "y_train = y_train.astype(numpy.int32)\n",
    "y_test  = y_test.astype(numpy.int32)"
   ]
  },
  {
   "cell_type": "markdown",
   "metadata": {},
   "source": [
    "This time we won't flatten the images. \n",
    "\n",
    "The training data (`X_train`) is a 3rd-order tensor of size (50000, 32, 32), i.e. it consists of 50000 images of size 32x32 pixels. \n",
    "\n",
    "`y_train` is a 50000-dimensional vector containing the correct classes ('airplane', 'automobile', 'bird', 'cat', 'deer', 'dog', 'frog', 'horse', 'ship', 'truck') for each training sample."
   ]
  },
  {
   "cell_type": "markdown",
   "metadata": {},
   "source": [
    "## Convolutional neural network (CNN)\n",
    "\n",
    "CNN is a type of deep learning model for processing data that has a grid pattern, such as images.\n",
    "\n",
    "Let's use a small model that includes convolutional layers\n",
    "\n",
    "- The Conv2D layers operate on 2D matrices so we input the images directly to the model.\n",
    "    - The two Conv2D layers below learn 32 and 64 filters respectively. \n",
    "    - They are learning filters for 3x3 windows.\n",
    "- The MaxPooling2D layer reduces the spatial dimensions, that is, makes the image smaller.\n",
    "    - It downsamples by taking the maximum value in the window \n",
    "    - The pool size of (2, 2) below means the windows are 2x2. \n",
    "    - Helps in extracting important features and reduce computation\n",
    "- The Flatten layer flattens the 2D matrices into vectors, so we can then switch to Dense layers as in the MLP model.\n",
    "\n",
    "See https://keras.io/layers/convolutional/, https://keras.io/layers/pooling/ for more information."
   ]
  },
  {
   "cell_type": "markdown",
   "metadata": {},
   "source": [
    "![conv layer](images/conv_layer.png)\n",
    "Image credit: [Jason Brownlee](https://machinelearningmastery.com/convolutional-layers-for-deep-learning-neural-networks/)"
   ]
  },
  {
   "cell_type": "markdown",
   "metadata": {},
   "source": [
    "![conv layer](images/conv.png)\n",
    "Image credit: [Anh H. Reynolds](https://anhreynolds.com/blogs/cnn.html)"
   ]
  },
  {
   "cell_type": "markdown",
   "metadata": {},
   "source": [
    "\n",
    "<img src=\"images/MaxpoolSample2.png\" width=\"600\" hight=\"600\" align=\"left\"/>"
   ]
  },
  {
   "cell_type": "code",
   "execution_count": 4,
   "metadata": {},
   "outputs": [],
   "source": [
    "class CIFAR10Classifier(tf.keras.models.Model):\n",
    "\n",
    "    def __init__(self, activation=tf.nn.tanh):\n",
    "        tf.keras.models.Model.__init__(self)\n",
    "\n",
    "        self.conv_1 = tf.keras.layers.Conv2D(32, [3, 3], activation='relu')\n",
    "        self.conv_2 = tf.keras.layers.Conv2D(64, [3, 3], activation='relu')\n",
    "        self.pool_3 = tf.keras.layers.MaxPooling2D(pool_size=(2, 2))\n",
    "        self.drop_4 = tf.keras.layers.Dropout(0.25)\n",
    "        self.dense_5 = tf.keras.layers.Dense(128, activation='relu')\n",
    "        self.drop_6 = tf.keras.layers.Dropout(0.5)\n",
    "        self.dense_7 = tf.keras.layers.Dense(10, activation='softmax')\n",
    "\n",
    "    def call(self, inputs):\n",
    "\n",
    "        x = self.conv_1(inputs)\n",
    "        x = self.conv_2(x)\n",
    "        x = self.pool_3(x)\n",
    "        x = self.drop_4(x)\n",
    "        x = tf.keras.layers.Flatten()(x)\n",
    "        x = self.dense_5(x)\n",
    "        x = self.drop_6(x)\n",
    "        x = self.dense_7(x)\n",
    "\n",
    "        return x"
   ]
  },
  {
   "cell_type": "markdown",
   "metadata": {},
   "source": [
    "### Simple training"
   ]
  },
  {
   "cell_type": "markdown",
   "metadata": {},
   "source": [
    "Here is a concise way to train the network, like we did in the previous notebook. We'll see a more verbose approach below that allows more performance tuning."
   ]
  },
  {
   "cell_type": "code",
   "execution_count": 5,
   "metadata": {},
   "outputs": [],
   "source": [
    "def train_network_concise(_batch_size, _n_training_epochs, _lr):\n",
    "\n",
    "    cnn_model = CIFAR10Classifier()\n",
    "\n",
    "    cnn_model.compile(loss=\"sparse_categorical_crossentropy\", optimizer=\"adam\", metrics=['accuracy'])\n",
    "    \n",
    "    history = cnn_model.fit(x_train, y_train, batch_size=_batch_size, epochs=_n_training_epochs)\n",
    "    return history, cnn_model"
   ]
  },
  {
   "cell_type": "code",
<<<<<<< HEAD
   "execution_count": 14,
=======
   "execution_count": 6,
>>>>>>> upstream/main
   "metadata": {},
   "outputs": [
    {
     "name": "stdout",
     "output_type": "stream",
     "text": [
<<<<<<< HEAD
      "Epoch 1/30\n",
      "391/391 [==============================] - 23s 57ms/step - loss: 1.7640 - accuracy: 0.3449\n",
      "Epoch 2/30\n",
      "391/391 [==============================] - 22s 57ms/step - loss: 1.4627 - accuracy: 0.4682\n",
      "Epoch 3/30\n",
      "391/391 [==============================] - 22s 55ms/step - loss: 1.3327 - accuracy: 0.5172\n",
      "Epoch 4/30\n",
      "391/391 [==============================] - 21s 55ms/step - loss: 1.2469 - accuracy: 0.5503\n",
      "Epoch 5/30\n",
      "391/391 [==============================] - 22s 56ms/step - loss: 1.1927 - accuracy: 0.5729\n",
      "Epoch 6/30\n",
      "391/391 [==============================] - 22s 55ms/step - loss: 1.1417 - accuracy: 0.5932\n",
      "Epoch 7/30\n",
      "391/391 [==============================] - 22s 56ms/step - loss: 1.0911 - accuracy: 0.6088\n",
      "Epoch 8/30\n",
      "391/391 [==============================] - 22s 56ms/step - loss: 1.0580 - accuracy: 0.6214\n",
      "Epoch 9/30\n",
      "391/391 [==============================] - 22s 56ms/step - loss: 1.0201 - accuracy: 0.6336\n",
      "Epoch 10/30\n",
      "391/391 [==============================] - 22s 56ms/step - loss: 0.9890 - accuracy: 0.6474\n",
      "Epoch 11/30\n",
      "391/391 [==============================] - 22s 56ms/step - loss: 0.9649 - accuracy: 0.6544\n",
      "Epoch 12/30\n",
      "391/391 [==============================] - 22s 56ms/step - loss: 0.9299 - accuracy: 0.6656\n",
      "Epoch 13/30\n",
      "391/391 [==============================] - 22s 56ms/step - loss: 0.9062 - accuracy: 0.6723\n",
      "Epoch 14/30\n",
      "391/391 [==============================] - 22s 56ms/step - loss: 0.8792 - accuracy: 0.6806\n",
      "Epoch 15/30\n",
      "391/391 [==============================] - 22s 56ms/step - loss: 0.8519 - accuracy: 0.6921\n",
      "Epoch 16/30\n",
      "391/391 [==============================] - 22s 55ms/step - loss: 0.8322 - accuracy: 0.6998\n",
      "Epoch 17/30\n",
      "391/391 [==============================] - 22s 57ms/step - loss: 0.8201 - accuracy: 0.7049\n",
      "Epoch 18/30\n",
      "391/391 [==============================] - 22s 57ms/step - loss: 0.7990 - accuracy: 0.7072\n",
      "Epoch 19/30\n",
      "391/391 [==============================] - 23s 58ms/step - loss: 0.7842 - accuracy: 0.7147\n",
      "Epoch 20/30\n",
      "391/391 [==============================] - 22s 57ms/step - loss: 0.7604 - accuracy: 0.7232\n",
      "Epoch 21/30\n",
      "391/391 [==============================] - 22s 56ms/step - loss: 0.7532 - accuracy: 0.7265\n",
      "Epoch 22/30\n",
      "391/391 [==============================] - 22s 55ms/step - loss: 0.7358 - accuracy: 0.7318\n",
      "Epoch 23/30\n",
      "391/391 [==============================] - 22s 57ms/step - loss: 0.7296 - accuracy: 0.7307\n",
      "Epoch 24/30\n",
      "391/391 [==============================] - 22s 57ms/step - loss: 0.7167 - accuracy: 0.7358\n",
      "Epoch 25/30\n",
      "391/391 [==============================] - 22s 57ms/step - loss: 0.7083 - accuracy: 0.7411\n",
      "Epoch 26/30\n",
      "391/391 [==============================] - 22s 57ms/step - loss: 0.6907 - accuracy: 0.7452\n",
      "Epoch 27/30\n",
      "391/391 [==============================] - 22s 57ms/step - loss: 0.6854 - accuracy: 0.7477\n",
      "Epoch 28/30\n",
      "391/391 [==============================] - 22s 57ms/step - loss: 0.6711 - accuracy: 0.7511\n",
      "Epoch 29/30\n",
      "391/391 [==============================] - 22s 57ms/step - loss: 0.6648 - accuracy: 0.7545\n",
      "Epoch 30/30\n",
      "391/391 [==============================] - 23s 58ms/step - loss: 0.6464 - accuracy: 0.7609\n"
=======
      "Epoch 1/3\n",
      "WARNING:tensorflow:AutoGraph could not transform <function Model.make_train_function.<locals>.train_function at 0x7f9660593b70> and will run it as-is.\n",
      "Please report this to the TensorFlow team. When filing the bug, set the verbosity to 10 (on Linux, `export AUTOGRAPH_VERBOSITY=10`) and attach the full output.\n",
      "Cause: 'arguments' object has no attribute 'posonlyargs'\n",
      "To silence this warning, decorate the function with @tf.autograph.experimental.do_not_convert\n",
      "WARNING: AutoGraph could not transform <function Model.make_train_function.<locals>.train_function at 0x7f9660593b70> and will run it as-is.\n",
      "Please report this to the TensorFlow team. When filing the bug, set the verbosity to 10 (on Linux, `export AUTOGRAPH_VERBOSITY=10`) and attach the full output.\n",
      "Cause: 'arguments' object has no attribute 'posonlyargs'\n",
      "To silence this warning, decorate the function with @tf.autograph.experimental.do_not_convert\n",
      "WARNING:tensorflow:AutoGraph could not transform <bound method CIFAR10Classifier.call of <__main__.CIFAR10Classifier object at 0x7f96908785f8>> and will run it as-is.\n",
      "Please report this to the TensorFlow team. When filing the bug, set the verbosity to 10 (on Linux, `export AUTOGRAPH_VERBOSITY=10`) and attach the full output.\n",
      "Cause: 'arguments' object has no attribute 'posonlyargs'\n",
      "To silence this warning, decorate the function with @tf.autograph.experimental.do_not_convert\n",
      "WARNING: AutoGraph could not transform <bound method CIFAR10Classifier.call of <__main__.CIFAR10Classifier object at 0x7f96908785f8>> and will run it as-is.\n",
      "Please report this to the TensorFlow team. When filing the bug, set the verbosity to 10 (on Linux, `export AUTOGRAPH_VERBOSITY=10`) and attach the full output.\n",
      "Cause: 'arguments' object has no attribute 'posonlyargs'\n",
      "To silence this warning, decorate the function with @tf.autograph.experimental.do_not_convert\n",
      "98/98 [==============================] - 38s 377ms/step - loss: 1.7966 - accuracy: 0.3459\n",
      "Epoch 2/3\n",
      "98/98 [==============================] - 36s 371ms/step - loss: 1.4480 - accuracy: 0.4769\n",
      "Epoch 3/3\n",
      "98/98 [==============================] - 36s 366ms/step - loss: 1.3255 - accuracy: 0.5278\n"
>>>>>>> upstream/main
     ]
    }
   ],
   "source": [
<<<<<<< HEAD
    "# This took 55 seconds per epoch on my laptop\n",
    "batch_size = 128\n",
    "epochs = 30\n",
=======
    "# This took 43 seconds per epoch on my laptop\n",
    "batch_size = 512\n",
    "epochs = 3\n",
>>>>>>> upstream/main
    "lr = .01\n",
    "history, cnn_model = train_network_concise(batch_size, epochs, lr)"
   ]
  },
  {
   "cell_type": "markdown",
   "metadata": {},
   "source": [
    "Accuracy for test data.  The model should be better than the non-convolutional model even if you're only patient enough for three epochs. "
   ]
  },
  {
   "cell_type": "code",
<<<<<<< HEAD
   "execution_count": 15,
=======
   "execution_count": 26,
>>>>>>> upstream/main
   "metadata": {},
   "outputs": [
    {
     "data": {
<<<<<<< HEAD
      "image/png": "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\n",
=======
      "image/png": "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\n",
>>>>>>> upstream/main
      "text/plain": [
       "<Figure size 360x216 with 1 Axes>"
      ]
     },
     "metadata": {
      "needs_background": "light"
     },
     "output_type": "display_data"
    },
    {
     "data": {
<<<<<<< HEAD
      "image/png": "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\n",
=======
      "image/png": "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\n",
>>>>>>> upstream/main
      "text/plain": [
       "<Figure size 360x216 with 1 Axes>"
      ]
     },
     "metadata": {
      "needs_background": "light"
     },
     "output_type": "display_data"
    }
   ],
   "source": [
    "plt.figure(figsize=(5,3))\n",
    "plt.plot(history.epoch,history.history['loss'])\n",
    "plt.title('loss')\n",
    "\n",
    "plt.figure(figsize=(5,3))\n",
    "plt.plot(history.epoch,history.history['accuracy'])\n",
    "plt.title('accuracy');"
   ]
  },
  {
   "cell_type": "markdown",
   "metadata": {},
   "source": [
    "### Inference"
   ]
  },
  {
   "cell_type": "markdown",
   "metadata": {},
   "source": [
    "With enough training epochs, the test accuracy should exceed 96.53%.\n",
    "\n",
    "You can compare your result with the state-of-the art [here](http://rodrigob.github.io/are_we_there_yet/build/classification_datasets_results.html). "
   ]
  },
  {
   "cell_type": "code",
<<<<<<< HEAD
   "execution_count": 16,
=======
   "execution_count": 27,
>>>>>>> upstream/main
   "metadata": {},
   "outputs": [
    {
     "name": "stdout",
     "output_type": "stream",
     "text": [
<<<<<<< HEAD
      "313/313 - 2s - loss: 0.9078 - accuracy: 0.7091 - 2s/epoch - 6ms/step\n",
      "accuracy: 70.91%\n",
      "CPU times: user 3.86 s, sys: 104 ms, total: 3.96 s\n",
      "Wall time: 1.98 s\n"
=======
      "WARNING:tensorflow:AutoGraph could not transform <function Model.make_test_function.<locals>.test_function at 0x7ff276779048> and will run it as-is.\n",
      "Please report this to the TensorFlow team. When filing the bug, set the verbosity to 10 (on Linux, `export AUTOGRAPH_VERBOSITY=10`) and attach the full output.\n",
      "Cause: 'arguments' object has no attribute 'posonlyargs'\n",
      "To silence this warning, decorate the function with @tf.autograph.experimental.do_not_convert\n",
      "WARNING: AutoGraph could not transform <function Model.make_test_function.<locals>.test_function at 0x7ff276779048> and will run it as-is.\n",
      "Please report this to the TensorFlow team. When filing the bug, set the verbosity to 10 (on Linux, `export AUTOGRAPH_VERBOSITY=10`) and attach the full output.\n",
      "Cause: 'arguments' object has no attribute 'posonlyargs'\n",
      "To silence this warning, decorate the function with @tf.autograph.experimental.do_not_convert\n",
      "313/313 - 4s - loss: 1.1830 - accuracy: 0.5806 - 4s/epoch - 12ms/step\n",
      "accuracy: 58.06%\n",
      "CPU times: user 13.6 s, sys: 2.33 s, total: 15.9 s\n",
      "Wall time: 3.84 s\n"
>>>>>>> upstream/main
     ]
    }
   ],
   "source": [
    "%%time\n",
    "x_test_reshaped = numpy.expand_dims(x_test, -1)\n",
    "scores = cnn_model.evaluate(x_test, y_test, verbose=2)\n",
    "print(\"%s: %.2f%%\" % (cnn_model.metrics_names[1], scores[1]*100))"
   ]
  },
  {
   "cell_type": "markdown",
   "metadata": {},
   "source": [
    "We can also again check the confusion matrix"
   ]
  },
  {
   "cell_type": "code",
<<<<<<< HEAD
   "execution_count": 8,
=======
   "execution_count": 28,
>>>>>>> upstream/main
   "metadata": {},
   "outputs": [
    {
     "name": "stdout",
     "output_type": "stream",
     "text": [
      "Confusion matrix (rows: true classes; columns: predicted classes):\n",
      "\n",
<<<<<<< HEAD
      "313/313 [==============================] - 2s 6ms/step\n",
      "[[671  29  75  22  18  15  11  25  94  40]\n",
      " [ 31 743  10  13   6   7   8  14  44 124]\n",
      " [ 80  15 362  62 176 133  71  71   8  22]\n",
      " [ 19  10  86 350  45 282  86  88   9  25]\n",
      " [ 41   8 135  59 442  77  76 148   8   6]\n",
      " [ 15   4  75 112  35 609  30 107   9   4]\n",
      " [  8   8  64  95  69  47 646  40   4  19]\n",
      " [ 17   4  30  34  41 121  17 707   5  24]\n",
      " [165  81  30  15   2  21   6  17 614  49]\n",
      " [ 33 174  13  20   8  16  16  57  56 607]]\n",
      "\n",
      "Classification accuracy for each class:\n",
      "\n",
      "0: 0.6710\n",
      "1: 0.7430\n",
      "2: 0.3620\n",
      "3: 0.3500\n",
      "4: 0.4420\n",
      "5: 0.6090\n",
      "6: 0.6460\n",
      "7: 0.7070\n",
      "8: 0.6140\n",
      "9: 0.6070\n"
=======
      "WARNING:tensorflow:AutoGraph could not transform <function Model.make_predict_function.<locals>.predict_function at 0x7ff275aeb620> and will run it as-is.\n",
      "Please report this to the TensorFlow team. When filing the bug, set the verbosity to 10 (on Linux, `export AUTOGRAPH_VERBOSITY=10`) and attach the full output.\n",
      "Cause: 'arguments' object has no attribute 'posonlyargs'\n",
      "To silence this warning, decorate the function with @tf.autograph.experimental.do_not_convert\n",
      "WARNING: AutoGraph could not transform <function Model.make_predict_function.<locals>.predict_function at 0x7ff275aeb620> and will run it as-is.\n",
      "Please report this to the TensorFlow team. When filing the bug, set the verbosity to 10 (on Linux, `export AUTOGRAPH_VERBOSITY=10`) and attach the full output.\n",
      "Cause: 'arguments' object has no attribute 'posonlyargs'\n",
      "To silence this warning, decorate the function with @tf.autograph.experimental.do_not_convert\n",
      "[[594  42  43  34  11  14  26  20  94 122]\n",
      " [  7 742   1  10   0   3  17   6  12 202]\n",
      " [ 72  20 299 102  85 147 147  67  19  42]\n",
      " [ 12  14  30 484  33 187 113  60   6  61]\n",
      " [ 33  12  74 118 320  56 192 160   8  27]\n",
      " [  8   6  31 238  30 541  38  73  11  24]\n",
      " [  1   9  28 108  27  24 759  20   3  21]\n",
      " [  8   4  16  72  33  86  13 706   3  59]\n",
      " [108 109   7  27   0  10  21  12 574 132]\n",
      " [ 17 116   4  18   5   6  16  19  12 787]]\n",
      "\n",
      "Classification accuracy for each class:\n",
      "\n",
      "0: 0.5940\n",
      "1: 0.7420\n",
      "2: 0.2990\n",
      "3: 0.4840\n",
      "4: 0.3200\n",
      "5: 0.5410\n",
      "6: 0.7590\n",
      "7: 0.7060\n",
      "8: 0.5740\n",
      "9: 0.7870\n"
>>>>>>> upstream/main
     ]
    }
   ],
   "source": [
    "from sklearn.metrics import confusion_matrix\n",
    "\n",
    "print('Confusion matrix (rows: true classes; columns: predicted classes):'); print()\n",
    "predictions = cnn_model.predict(x_test)\n",
    "cm=confusion_matrix(y_test, numpy.argmax(predictions, axis=1), labels=list(range(10)))\n",
    "print(cm); print()\n",
    "\n",
    "print('Classification accuracy for each class:'); print()\n",
    "for i,j in enumerate(cm.diagonal()/cm.sum(axis=1)): print(\"%d: %.4f\" % (i,j))"
   ]
  },
  {
   "cell_type": "markdown",
   "metadata": {},
   "source": [
    "### More verbose training"
   ]
  },
  {
   "cell_type": "markdown",
   "metadata": {},
   "source": [
    "This approach explicitly handles the looping over data. It will be helpful in future weeks for diving in and optimizing"
   ]
  },
  {
   "cell_type": "code",
<<<<<<< HEAD
   "execution_count": 9,
=======
   "execution_count": 29,
>>>>>>> upstream/main
   "metadata": {},
   "outputs": [],
   "source": [
    "def compute_loss(y_true, y_pred):\n",
    "    # if labels are integers, use sparse categorical crossentropy\n",
    "    # network's final layer is softmax, so from_logtis=False\n",
    "    scce = tf.keras.losses.SparseCategoricalCrossentropy(from_logits=False)\n",
    "    # if labels are one-hot encoded, use standard crossentropy\n",
    "\n",
    "    return scce(y_true, y_pred)  "
   ]
  },
  {
   "cell_type": "code",
<<<<<<< HEAD
   "execution_count": 10,
=======
   "execution_count": 30,
>>>>>>> upstream/main
   "metadata": {},
   "outputs": [],
   "source": [
    "def forward_pass(model, batch_data, y_true):\n",
    "    y_pred = model(batch_data)\n",
    "    loss = compute_loss(y_true, y_pred)\n",
    "    return loss"
   ]
  },
  {
   "cell_type": "code",
<<<<<<< HEAD
   "execution_count": 11,
=======
   "execution_count": 31,
>>>>>>> upstream/main
   "metadata": {},
   "outputs": [],
   "source": [
    "# Here is a function that will manage the training loop for us:\n",
    "\n",
    "def train_loop(batch_size, n_training_epochs, model, opt):\n",
    "    \n",
    "    @tf.function()\n",
    "    def train_iteration(data, y_true, model, opt):\n",
    "        with tf.GradientTape() as tape:\n",
    "            loss = forward_pass(model, data, y_true)\n",
    "\n",
    "        trainable_vars = model.trainable_variables\n",
    "\n",
    "        # Apply the update to the network (one at a time):\n",
    "        grads = tape.gradient(loss, trainable_vars)\n",
    "\n",
    "        opt.apply_gradients(zip(grads, trainable_vars))\n",
    "        return loss\n",
    "\n",
    "    for i_epoch in range(n_training_epochs):\n",
    "        print(\"beginning epoch %d\" % i_epoch)\n",
    "        start = time.time()\n",
    "\n",
    "        epoch_steps = int(50000/batch_size)\n",
    "        dataset.shuffle(50000) # Shuffle the whole dataset in memory\n",
    "        batches = dataset.batch(batch_size=batch_size, drop_remainder=True)\n",
    "        \n",
    "        for i_batch, (batch_data, y_true) in enumerate(batches):\n",
    "            batch_data = tf.reshape(batch_data, [-1, 32, 32, 3])\n",
    "            loss = train_iteration(batch_data, y_true, model, opt)\n",
    "            \n",
    "        end = time.time()\n",
    "        print(\"took %1.1f seconds for epoch #%d\" % (end-start, i_epoch))"
   ]
  },
  {
   "cell_type": "code",
<<<<<<< HEAD
   "execution_count": 12,
=======
   "execution_count": 32,
>>>>>>> upstream/main
   "metadata": {},
   "outputs": [],
   "source": [
    "def train_network(_batch_size, _n_training_epochs, _lr):\n",
    "\n",
    "    cifar_model = CIFAR10Classifier()\n",
    "\n",
    "    opt = tf.keras.optimizers.Adam(_lr)\n",
    "\n",
    "    train_loop(_batch_size, _n_training_epochs, cifar_model, opt)"
   ]
  },
  {
   "cell_type": "code",
<<<<<<< HEAD
   "execution_count": 13,
=======
   "execution_count": 33,
>>>>>>> upstream/main
   "metadata": {},
   "outputs": [
    {
     "name": "stdout",
     "output_type": "stream",
     "text": [
      "beginning epoch 0\n",
<<<<<<< HEAD
      "took 17.2 seconds for epoch #0\n",
      "beginning epoch 1\n",
      "took 16.8 seconds for epoch #1\n",
      "beginning epoch 2\n",
      "took 17.2 seconds for epoch #2\n"
=======
      "WARNING:tensorflow:AutoGraph could not transform <function train_loop.<locals>.train_iteration at 0x7ff260dfca60> and will run it as-is.\n",
      "Please report this to the TensorFlow team. When filing the bug, set the verbosity to 10 (on Linux, `export AUTOGRAPH_VERBOSITY=10`) and attach the full output.\n",
      "Cause: 'arguments' object has no attribute 'posonlyargs'\n",
      "To silence this warning, decorate the function with @tf.autograph.experimental.do_not_convert\n",
      "WARNING: AutoGraph could not transform <function train_loop.<locals>.train_iteration at 0x7ff260dfca60> and will run it as-is.\n",
      "Please report this to the TensorFlow team. When filing the bug, set the verbosity to 10 (on Linux, `export AUTOGRAPH_VERBOSITY=10`) and attach the full output.\n",
      "Cause: 'arguments' object has no attribute 'posonlyargs'\n",
      "To silence this warning, decorate the function with @tf.autograph.experimental.do_not_convert\n",
      "took 38.9 seconds for epoch #0\n",
      "beginning epoch 1\n",
      "took 39.8 seconds for epoch #1\n",
      "beginning epoch 2\n",
      "took 39.0 seconds for epoch #2\n"
>>>>>>> upstream/main
     ]
    }
   ],
   "source": [
    "dataset = tf.data.Dataset.from_tensor_slices((x_train, y_train))\n",
    "dataset.shuffle(50000)\n",
    "\n",
    "batch_size = 512\n",
    "epochs = 3\n",
    "lr = .01\n",
    "train_network(batch_size, epochs, lr)"
   ]
  },
  {
   "cell_type": "markdown",
   "metadata": {},
   "source": [
    "# Homework: improve the accuracy of this model"
   ]
  },
  {
   "cell_type": "markdown",
   "metadata": {},
   "source": [
    "Update this notebook to ensure more accuracy. How high can it be raised? Changes like increasing the number of epochs, altering the learning rate, altering the number of neurons the hidden layer, chnaging the optimizer, etc. could be made directly in the notebook. You can also change the model specification by expanding the network's layer. The current notebook's training accuracy is roughly 58.69%, although it varies randomly."
   ]
  },
  {
   "cell_type": "code",
   "execution_count": null,
   "metadata": {},
   "outputs": [],
   "source": []
  }
 ],
 "metadata": {
  "anaconda-cloud": {},
  "kernelspec": {
   "display_name": "Python 3 (ipykernel)",
   "language": "python",
   "name": "python3"
  },
  "language_info": {
   "codemirror_mode": {
    "name": "ipython",
    "version": 3
   },
   "file_extension": ".py",
   "mimetype": "text/x-python",
   "name": "python",
   "nbconvert_exporter": "python",
   "pygments_lexer": "ipython3",
   "version": "3.9.12"
  }
 },
 "nbformat": 4,
 "nbformat_minor": 4
}
