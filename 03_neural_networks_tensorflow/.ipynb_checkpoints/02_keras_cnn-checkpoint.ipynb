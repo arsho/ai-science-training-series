{
 "cells": [
  {
   "cell_type": "markdown",
   "metadata": {},
   "source": [
    "# CIFAR-10 dataset classification with CNNs\n",
    "\n",
    "Author: Tanwi Mallick, adapting codes from Bethany Lusch, Prasanna Balprakash, Corey Adams, and Kyle Felker\n",
    "\n",
    "In this notebook, we'll continue the CIFAR-10 problem using the Keras API (as included in the TensorFlow library) and incorporating convolutional layers.\n",
    "\n",
    "First, the needed imports."
   ]
  },
  {
   "cell_type": "code",
   "execution_count": 1,
   "metadata": {},
   "outputs": [],
   "source": [
    "%matplotlib inline\n",
    "\n",
    "import tensorflow as tf\n",
    "\n",
    "import numpy\n",
    "import matplotlib.pyplot as plt\n",
    "import time"
   ]
  },
  {
   "cell_type": "markdown",
   "metadata": {},
   "source": [
    "## CIFAR-10 data set\n",
    "\n",
    "Again we'll load the cifar10 data set. CIFAR-10 dataset contains 32x32 color images from 10 classes: airplane, automobile, bird, cat, deer, dog, frog, horse, ship, truck. If you haven't downloaded it already, it could take a while."
   ]
  },
  {
   "cell_type": "code",
   "execution_count": 2,
   "metadata": {},
   "outputs": [
    {
     "name": "stdout",
     "output_type": "stream",
     "text": [
      "Downloading data from https://www.cs.toronto.edu/~kriz/cifar-10-python.tar.gz\n",
      "170498071/170498071 [==============================] - 2s 0us/step\n"
     ]
    }
   ],
   "source": [
    "(x_train, y_train), (x_test, y_test) = tf.keras.datasets.cifar10.load_data()\n",
    "x_train = x_train.astype(numpy.float32)\n",
    "x_test  = x_test.astype(numpy.float32)\n",
    "\n",
    "x_train /= 255.\n",
    "x_test  /= 255.\n",
    "\n",
    "y_train = y_train.astype(numpy.int32)\n",
    "y_test  = y_test.astype(numpy.int32)"
   ]
  },
  {
   "cell_type": "markdown",
   "metadata": {},
   "source": [
    "This time we won't flatten the images. \n",
    "\n",
    "The training data (`X_train`) is a 3rd-order tensor of size (50000, 32, 32), i.e. it consists of 50000 images of size 32x32 pixels. \n",
    "\n",
    "`y_train` is a 50000-dimensional vector containing the correct classes ('airplane', 'automobile', 'bird', 'cat', 'deer', 'dog', 'frog', 'horse', 'ship', 'truck') for each training sample."
   ]
  },
  {
   "cell_type": "markdown",
   "metadata": {},
   "source": [
    "## Convolutional neural network (CNN)\n",
    "\n",
    "CNN is a type of deep learning model for processing data that has a grid pattern, such as images.\n",
    "\n",
    "Let's use a small model that includes convolutional layers\n",
    "\n",
    "- The Conv2D layers operate on 2D matrices so we input the images directly to the model.\n",
    "    - The two Conv2D layers below learn 32 and 64 filters respectively. \n",
    "    - They are learning filters for 3x3 windows.\n",
    "- The MaxPooling2D layer reduces the spatial dimensions, that is, makes the image smaller.\n",
    "    - It downsamples by taking the maximum value in the window \n",
    "    - The pool size of (2, 2) below means the windows are 2x2. \n",
    "    - Helps in extracting important features and reduce computation\n",
    "- The Flatten layer flattens the 2D matrices into vectors, so we can then switch to Dense layers as in the MLP model.\n",
    "\n",
    "See https://keras.io/layers/convolutional/, https://keras.io/layers/pooling/ for more information."
   ]
  },
  {
   "cell_type": "markdown",
   "metadata": {},
   "source": [
    "![conv layer](images/conv_layer.png)\n",
    "Image credit: [Jason Brownlee](https://machinelearningmastery.com/convolutional-layers-for-deep-learning-neural-networks/)"
   ]
  },
  {
   "cell_type": "markdown",
   "metadata": {},
   "source": [
    "![conv layer](images/conv.png)\n",
    "Image credit: [Anh H. Reynolds](https://anhreynolds.com/blogs/cnn.html)"
   ]
  },
  {
   "cell_type": "markdown",
   "metadata": {},
   "source": [
    "\n",
    "<img src=\"images/MaxpoolSample2.png\" width=\"600\" hight=\"600\" align=\"left\"/>"
   ]
  },
  {
   "cell_type": "code",
   "execution_count": 3,
   "metadata": {},
   "outputs": [],
   "source": [
    "class CIFAR10Classifier(tf.keras.models.Model):\n",
    "\n",
    "    def __init__(self, activation=tf.nn.tanh):\n",
    "        tf.keras.models.Model.__init__(self)\n",
    "\n",
    "        self.conv_1 = tf.keras.layers.Conv2D(32, [3, 3], activation='relu')\n",
    "        self.conv_2 = tf.keras.layers.Conv2D(64, [3, 3], activation='relu')\n",
    "        self.pool_3 = tf.keras.layers.MaxPooling2D(pool_size=(2, 2))\n",
    "        self.drop_4 = tf.keras.layers.Dropout(0.25)\n",
    "        self.dense_5 = tf.keras.layers.Dense(128, activation='relu')\n",
    "        self.drop_6 = tf.keras.layers.Dropout(0.5)\n",
    "        self.dense_7 = tf.keras.layers.Dense(10, activation='softmax')\n",
    "\n",
    "    def call(self, inputs):\n",
    "\n",
    "        x = self.conv_1(inputs)\n",
    "        x = self.conv_2(x)\n",
    "        x = self.pool_3(x)\n",
    "        x = self.drop_4(x)\n",
    "        x = tf.keras.layers.Flatten()(x)\n",
    "        x = self.dense_5(x)\n",
    "        x = self.drop_6(x)\n",
    "        x = self.dense_7(x)\n",
    "\n",
    "        return x"
   ]
  },
  {
   "cell_type": "markdown",
   "metadata": {},
   "source": [
    "### Simple training"
   ]
  },
  {
   "cell_type": "markdown",
   "metadata": {},
   "source": [
    "Here is a concise way to train the network, like we did in the previous notebook. We'll see a more verbose approach below that allows more performance tuning."
   ]
  },
  {
   "cell_type": "code",
   "execution_count": 4,
   "metadata": {},
   "outputs": [],
   "source": [
    "def train_network_concise(_batch_size, _n_training_epochs, _lr):\n",
    "\n",
    "    cnn_model = CIFAR10Classifier()\n",
    "\n",
    "    cnn_model.compile(loss=\"sparse_categorical_crossentropy\", optimizer=\"adam\", metrics=['accuracy'])\n",
    "    \n",
    "    history = cnn_model.fit(x_train, y_train, batch_size=_batch_size, epochs=_n_training_epochs)\n",
    "    return history, cnn_model"
   ]
  },
  {
   "cell_type": "code",
   "execution_count": 5,
   "metadata": {},
   "outputs": [
    {
     "name": "stdout",
     "output_type": "stream",
     "text": [
      "Epoch 1/3\n",
      "98/98 [==============================] - 4s 9ms/step - loss: 1.8345 - accuracy: 0.3299\n",
      "Epoch 2/3\n",
      "98/98 [==============================] - 1s 7ms/step - loss: 1.4449 - accuracy: 0.4835\n",
      "Epoch 3/3\n",
      "98/98 [==============================] - 1s 7ms/step - loss: 1.2858 - accuracy: 0.5449\n"
     ]
    }
   ],
   "source": [
    "# This took 43 seconds per epoch on my laptop\n",
    "batch_size = 512\n",
    "epochs = 3\n",
    "lr = .01\n",
    "history, cnn_model = train_network_concise(batch_size, epochs, lr)"
   ]
  },
  {
   "cell_type": "markdown",
   "metadata": {},
   "source": [
    "Accuracy for test data.  The model should be better than the non-convolutional model even if you're only patient enough for three epochs. "
   ]
  },
  {
   "cell_type": "code",
   "execution_count": 6,
   "metadata": {},
   "outputs": [
    {
     "data": {
      "image/png": "[encoded data removed]",
      "text/plain": [
       "<Figure size 360x216 with 1 Axes>"
      ]
     },
     "metadata": {
      "needs_background": "light"
     },
     "output_type": "display_data"
    },
    {
     "data": {
      "image/png": "[encoded data removed]",
      "text/plain": [
       "<Figure size 360x216 with 1 Axes>"
      ]
     },
     "metadata": {
      "needs_background": "light"
     },
     "output_type": "display_data"
    }
   ],
   "source": [
    "plt.figure(figsize=(5,3))\n",
    "plt.plot(history.epoch,history.history['loss'])\n",
    "plt.title('loss')\n",
    "\n",
    "plt.figure(figsize=(5,3))\n",
    "plt.plot(history.epoch,history.history['accuracy'])\n",
    "plt.title('accuracy');"
   ]
  },
  {
   "cell_type": "markdown",
   "metadata": {},
   "source": [
    "### Inference"
   ]
  },
  {
   "cell_type": "markdown",
   "metadata": {},
   "source": [
    "With enough training epochs, the test accuracy should exceed 96.53%.\n",
    "\n",
    "You can compare your result with the state-of-the art [here](http://rodrigob.github.io/are_we_there_yet/build/classification_datasets_results.html). "
   ]
  },
  {
   "cell_type": "code",
   "execution_count": 7,
   "metadata": {},
   "outputs": [
    {
     "name": "stdout",
     "output_type": "stream",
     "text": [
      "313/313 - 1s - loss: 1.1198 - accuracy: 0.6113 - 520ms/epoch - 2ms/step\n",
      "accuracy: 61.13%\n",
      "CPU times: user 875 ms, sys: 1.74 s, total: 2.61 s\n",
      "Wall time: 2.26 s\n"
     ]
    }
   ],
   "source": [
    "%%time\n",
    "x_test_reshaped = numpy.expand_dims(x_test, -1)\n",
    "scores = cnn_model.evaluate(x_test, y_test, verbose=2)\n",
    "print(\"%s: %.2f%%\" % (cnn_model.metrics_names[1], scores[1]*100))"
   ]
  },
  {
   "cell_type": "markdown",
   "metadata": {},
   "source": [
    "We can also again check the confusion matrix"
   ]
  },
  {
   "cell_type": "code",
   "execution_count": 8,
   "metadata": {},
   "outputs": [
    {
     "name": "stdout",
     "output_type": "stream",
     "text": [
      "Confusion matrix (rows: true classes; columns: predicted classes):\n",
      "\n",
      "313/313 [==============================] - 0s 827us/step\n",
      "[[675  28  80  15  25  11  13  21  86  46]\n",
      " [ 32 739  10   6  12   5  14  19  39 124]\n",
      " [ 81   8 452  37 174 115  52  51  16  14]\n",
      " [ 14  11  87 296 131 283  75  73  12  18]\n",
      " [ 26   3 114  31 610  50  42 111  10   3]\n",
      " [ 13   5  77  97  84 598  16  97   8   5]\n",
      " [  5   8  61  61 133  40 659  24   3   6]\n",
      " [ 14   1  25  19  74  94   4 750   1  18]\n",
      " [133  63  20  23  15  14   8  12 666  46]\n",
      " [ 40 125  10   8  14  14  15  62  44 668]]\n",
      "\n",
      "Classification accuracy for each class:\n",
      "\n",
      "0: 0.6750\n",
      "1: 0.7390\n",
      "2: 0.4520\n",
      "3: 0.2960\n",
      "4: 0.6100\n",
      "5: 0.5980\n",
      "6: 0.6590\n",
      "7: 0.7500\n",
      "8: 0.6660\n",
      "9: 0.6680\n"
     ]
    }
   ],
   "source": [
    "from sklearn.metrics import confusion_matrix\n",
    "\n",
    "print('Confusion matrix (rows: true classes; columns: predicted classes):'); print()\n",
    "predictions = cnn_model.predict(x_test)\n",
    "cm=confusion_matrix(y_test, numpy.argmax(predictions, axis=1), labels=list(range(10)))\n",
    "print(cm); print()\n",
    "\n",
    "print('Classification accuracy for each class:'); print()\n",
    "for i,j in enumerate(cm.diagonal()/cm.sum(axis=1)): print(\"%d: %.4f\" % (i,j))"
   ]
  },
  {
   "cell_type": "markdown",
   "metadata": {},
   "source": [
    "### More verbose training"
   ]
  },
  {
   "cell_type": "markdown",
   "metadata": {},
   "source": [
    "This approach explicitly handles the looping over data. It will be helpful in future weeks for diving in and optimizing"
   ]
  },
  {
   "cell_type": "code",
   "execution_count": 9,
   "metadata": {},
   "outputs": [],
   "source": [
    "def compute_loss(y_true, y_pred):\n",
    "    # if labels are integers, use sparse categorical crossentropy\n",
    "    # network's final layer is softmax, so from_logtis=False\n",
    "    scce = tf.keras.losses.SparseCategoricalCrossentropy(from_logits=False)\n",
    "    # if labels are one-hot encoded, use standard crossentropy\n",
    "\n",
    "    return scce(y_true, y_pred)  "
   ]
  },
  {
   "cell_type": "code",
   "execution_count": 10,
   "metadata": {},
   "outputs": [],
   "source": [
    "def forward_pass(model, batch_data, y_true):\n",
    "    y_pred = model(batch_data)\n",
    "    loss = compute_loss(y_true, y_pred)\n",
    "    return loss"
   ]
  },
  {
   "cell_type": "code",
   "execution_count": 11,
   "metadata": {},
   "outputs": [],
   "source": [
    "# Here is a function that will manage the training loop for us:\n",
    "\n",
    "def train_loop(batch_size, n_training_epochs, model, opt):\n",
    "    \n",
    "    @tf.function()\n",
    "    def train_iteration(data, y_true, model, opt):\n",
    "        with tf.GradientTape() as tape:\n",
    "            loss = forward_pass(model, data, y_true)\n",
    "\n",
    "        trainable_vars = model.trainable_variables\n",
    "\n",
    "        # Apply the update to the network (one at a time):\n",
    "        grads = tape.gradient(loss, trainable_vars)\n",
    "\n",
    "        opt.apply_gradients(zip(grads, trainable_vars))\n",
    "        return loss\n",
    "\n",
    "    for i_epoch in range(n_training_epochs):\n",
    "        print(\"beginning epoch %d\" % i_epoch)\n",
    "        start = time.time()\n",
    "\n",
    "        epoch_steps = int(50000/batch_size)\n",
    "        dataset.shuffle(50000) # Shuffle the whole dataset in memory\n",
    "        batches = dataset.batch(batch_size=batch_size, drop_remainder=True)\n",
    "        \n",
    "        for i_batch, (batch_data, y_true) in enumerate(batches):\n",
    "            batch_data = tf.reshape(batch_data, [-1, 32, 32, 3])\n",
    "            loss = train_iteration(batch_data, y_true, model, opt)\n",
    "            \n",
    "        end = time.time()\n",
    "        print(\"took %1.1f seconds for epoch #%d\" % (end-start, i_epoch))"
   ]
  },
  {
   "cell_type": "code",
   "execution_count": 12,
   "metadata": {},
   "outputs": [],
   "source": [
    "def train_network(_batch_size, _n_training_epochs, _lr):\n",
    "\n",
    "    cifar_model = CIFAR10Classifier()\n",
    "\n",
    "    opt = tf.keras.optimizers.Adam(_lr)\n",
    "\n",
    "    train_loop(_batch_size, _n_training_epochs, cifar_model, opt)"
   ]
  },
  {
   "cell_type": "code",
   "execution_count": 13,
   "metadata": {},
   "outputs": [
    {
     "name": "stdout",
     "output_type": "stream",
     "text": [
      "beginning epoch 0\n",
      "took 1.2 seconds for epoch #0\n",
      "beginning epoch 1\n",
      "took 0.9 seconds for epoch #1\n",
      "beginning epoch 2\n",
      "took 0.9 seconds for epoch #2\n"
     ]
    }
   ],
   "source": [
    "dataset = tf.data.Dataset.from_tensor_slices((x_train, y_train))\n",
    "dataset.shuffle(50000)\n",
    "\n",
    "batch_size = 512\n",
    "epochs = 3\n",
    "lr = .01\n",
    "train_network(batch_size, epochs, lr)"
   ]
  },
  {
   "cell_type": "markdown",
   "metadata": {},
   "source": [
    "# Homework: improve the accuracy of this model"
   ]
  },
  {
   "cell_type": "markdown",
   "metadata": {},
   "source": [
    "Update this notebook to ensure more accuracy. How high can it be raised? Changes like increasing the number of epochs, altering the learning rate, altering the number of neurons the hidden layer, chnaging the optimizer, etc. could be made directly in the notebook. You can also change the model specification by expanding the network's layer. The current notebook's training accuracy is roughly 58.06%, although it varies randomly."
   ]
  },
  {
   "cell_type": "code",
   "execution_count": 14,
   "metadata": {},
   "outputs": [],
   "source": [
    "class CIFAR10Classifier(tf.keras.models.Model):\n",
    "\n",
    "    def __init__(self, activation=tf.nn.tanh):\n",
    "        tf.keras.models.Model.__init__(self)\n",
    "\n",
    "        self.conv_1 = tf.keras.layers.Conv2D(32, [3, 3], activation='relu', kernel_initializer='he_uniform', padding='same')\n",
    "        self.conv_2 = tf.keras.layers.Conv2D(32, [3, 3], activation='relu', kernel_initializer='he_uniform', padding='same')\n",
    "        self.pool_3 = tf.keras.layers.MaxPooling2D(pool_size=(2, 2))\n",
    "        self.drop_4 = tf.keras.layers.Dropout(0.2)\n",
    "        self.conv_5 = tf.keras.layers.Conv2D(64, [3, 3], activation='relu', kernel_initializer='he_uniform', padding='same')\n",
    "        self.conv_6 = tf.keras.layers.Conv2D(64, [3, 3], activation='relu', kernel_initializer='he_uniform', padding='same')\n",
    "        self.pool_7 = tf.keras.layers.MaxPooling2D(pool_size=(2, 2))\n",
    "        self.drop_8 = tf.keras.layers.Dropout(0.2)\n",
    "        self.conv_9 = tf.keras.layers.Conv2D(128, [3, 3], activation='relu', kernel_initializer='he_uniform', padding='same')\n",
    "        self.conv_10 = tf.keras.layers.Conv2D(128, [3, 3], activation='relu', kernel_initializer='he_uniform', padding='same')\n",
    "        self.pool_11 = tf.keras.layers.MaxPooling2D(pool_size=(2, 2))\n",
    "        self.drop_12 = tf.keras.layers.Dropout(0.2)\n",
    "        self.dense_13 = tf.keras.layers.Dense(128, activation='relu')\n",
    "        self.drop_14 = tf.keras.layers.Dropout(0.2)\n",
    "        self.dense_15 = tf.keras.layers.Dense(10, activation='softmax')\n",
    "        \n",
    "\n",
    "    def call(self, inputs):\n",
    "\n",
    "        x = self.conv_1(inputs)\n",
    "        x = self.conv_2(x)\n",
    "        x = self.pool_3(x)\n",
    "        x = self.drop_4(x)\n",
    "        \n",
    "        x = self.conv_5(x)\n",
    "        x = self.conv_6(x)\n",
    "        x = self.pool_7(x)\n",
    "        x = self.drop_8(x)\n",
    "        \n",
    "        \n",
    "        x = self.conv_9(x)\n",
    "        x = self.conv_10(x)\n",
    "        x = self.pool_11(x)\n",
    "        x = self.drop_12(x)\n",
    "        \n",
    "        \n",
    "        x = tf.keras.layers.Flatten()(x)\n",
    "        x = self.dense_13(x)\n",
    "        x = self.drop_14(x)\n",
    "        x = self.dense_15(x)\n",
    "\n",
    "        return x"
   ]
  },
  {
   "cell_type": "code",
   "execution_count": 15,
   "metadata": {},
   "outputs": [],
   "source": [
    "def train_network_concise(_batch_size, _n_training_epochs, _lr):\n",
    "\n",
    "    cnn_model = CIFAR10Classifier()\n",
    "\n",
    "    cnn_model.compile(loss=\"sparse_categorical_crossentropy\", optimizer=\"adam\", metrics=['accuracy'])\n",
    "    \n",
    "    history = cnn_model.fit(x_train, y_train, batch_size=_batch_size, epochs=_n_training_epochs)\n",
    "    return history, cnn_model"
   ]
  },
  {
   "cell_type": "code",
   "execution_count": 31,
   "metadata": {},
   "outputs": [
    {
     "name": "stdout",
     "output_type": "stream",
     "text": [
      "Epoch 1/100\n",
      "391/391 [==============================] - 2s 4ms/step - loss: 1.7424 - accuracy: 0.3525\n",
      "Epoch 2/100\n",
      "391/391 [==============================] - 2s 4ms/step - loss: 1.2334 - accuracy: 0.5584\n",
      "Epoch 3/100\n",
      "391/391 [==============================] - 2s 4ms/step - loss: 1.0143 - accuracy: 0.6418\n",
      "Epoch 4/100\n",
      "391/391 [==============================] - 2s 4ms/step - loss: 0.8773 - accuracy: 0.6955\n",
      "Epoch 5/100\n",
      "391/391 [==============================] - 2s 4ms/step - loss: 0.7863 - accuracy: 0.7259\n",
      "Epoch 6/100\n",
      "391/391 [==============================] - 2s 4ms/step - loss: 0.7155 - accuracy: 0.7505\n",
      "Epoch 7/100\n",
      "391/391 [==============================] - 2s 4ms/step - loss: 0.6601 - accuracy: 0.7706\n",
      "Epoch 8/100\n",
      "391/391 [==============================] - 2s 4ms/step - loss: 0.6118 - accuracy: 0.7871\n",
      "Epoch 9/100\n",
      "391/391 [==============================] - 2s 4ms/step - loss: 0.5719 - accuracy: 0.8011\n",
      "Epoch 10/100\n",
      "391/391 [==============================] - 2s 4ms/step - loss: 0.5421 - accuracy: 0.8113\n",
      "Epoch 11/100\n",
      "391/391 [==============================] - 2s 4ms/step - loss: 0.5033 - accuracy: 0.8238\n",
      "Epoch 12/100\n",
      "391/391 [==============================] - 2s 4ms/step - loss: 0.4883 - accuracy: 0.8288\n",
      "Epoch 13/100\n",
      "391/391 [==============================] - 2s 4ms/step - loss: 0.4658 - accuracy: 0.8368\n",
      "Epoch 14/100\n",
      "391/391 [==============================] - 2s 4ms/step - loss: 0.4361 - accuracy: 0.8457\n",
      "Epoch 15/100\n",
      "391/391 [==============================] - 2s 4ms/step - loss: 0.4219 - accuracy: 0.8509\n",
      "Epoch 16/100\n",
      "391/391 [==============================] - 2s 4ms/step - loss: 0.3962 - accuracy: 0.8590\n",
      "Epoch 17/100\n",
      "391/391 [==============================] - 2s 4ms/step - loss: 0.3876 - accuracy: 0.8645\n",
      "Epoch 18/100\n",
      "391/391 [==============================] - 2s 4ms/step - loss: 0.3732 - accuracy: 0.8670\n",
      "Epoch 19/100\n",
      "391/391 [==============================] - 2s 4ms/step - loss: 0.3573 - accuracy: 0.8723\n",
      "Epoch 20/100\n",
      "391/391 [==============================] - 2s 4ms/step - loss: 0.3400 - accuracy: 0.8798\n",
      "Epoch 21/100\n",
      "391/391 [==============================] - 2s 4ms/step - loss: 0.3366 - accuracy: 0.8809\n",
      "Epoch 22/100\n",
      "391/391 [==============================] - 2s 4ms/step - loss: 0.3284 - accuracy: 0.8843\n",
      "Epoch 23/100\n",
      "391/391 [==============================] - 2s 4ms/step - loss: 0.3109 - accuracy: 0.8897\n",
      "Epoch 24/100\n",
      "391/391 [==============================] - 2s 4ms/step - loss: 0.3044 - accuracy: 0.8904\n",
      "Epoch 25/100\n",
      "391/391 [==============================] - 2s 4ms/step - loss: 0.3016 - accuracy: 0.8928\n",
      "Epoch 26/100\n",
      "391/391 [==============================] - 2s 4ms/step - loss: 0.2922 - accuracy: 0.8985\n",
      "Epoch 27/100\n",
      "391/391 [==============================] - 2s 4ms/step - loss: 0.2826 - accuracy: 0.8991\n",
      "Epoch 28/100\n",
      "391/391 [==============================] - 2s 4ms/step - loss: 0.2723 - accuracy: 0.9027\n",
      "Epoch 29/100\n",
      "391/391 [==============================] - 2s 4ms/step - loss: 0.2701 - accuracy: 0.9047\n",
      "Epoch 30/100\n",
      "391/391 [==============================] - 2s 4ms/step - loss: 0.2692 - accuracy: 0.9047\n",
      "Epoch 31/100\n",
      "391/391 [==============================] - 2s 4ms/step - loss: 0.2635 - accuracy: 0.9062\n",
      "Epoch 32/100\n",
      "391/391 [==============================] - 2s 4ms/step - loss: 0.2482 - accuracy: 0.9121\n",
      "Epoch 33/100\n",
      "391/391 [==============================] - 2s 4ms/step - loss: 0.2529 - accuracy: 0.9112\n",
      "Epoch 34/100\n",
      "391/391 [==============================] - 2s 4ms/step - loss: 0.2420 - accuracy: 0.9140\n",
      "Epoch 35/100\n",
      "391/391 [==============================] - 2s 4ms/step - loss: 0.2377 - accuracy: 0.9176\n",
      "Epoch 36/100\n",
      "391/391 [==============================] - 2s 4ms/step - loss: 0.2377 - accuracy: 0.9172\n",
      "Epoch 37/100\n",
      "391/391 [==============================] - 2s 4ms/step - loss: 0.2300 - accuracy: 0.9193\n",
      "Epoch 38/100\n",
      "391/391 [==============================] - 2s 4ms/step - loss: 0.2253 - accuracy: 0.9211\n",
      "Epoch 39/100\n",
      "391/391 [==============================] - 2s 4ms/step - loss: 0.2268 - accuracy: 0.9211\n",
      "Epoch 40/100\n",
      "391/391 [==============================] - 2s 4ms/step - loss: 0.2204 - accuracy: 0.9231\n",
      "Epoch 41/100\n",
      "391/391 [==============================] - 2s 4ms/step - loss: 0.2142 - accuracy: 0.9258\n",
      "Epoch 42/100\n",
      "391/391 [==============================] - 2s 4ms/step - loss: 0.2113 - accuracy: 0.9253\n",
      "Epoch 43/100\n",
      "391/391 [==============================] - 2s 4ms/step - loss: 0.2138 - accuracy: 0.9247\n",
      "Epoch 44/100\n",
      "391/391 [==============================] - 2s 4ms/step - loss: 0.2111 - accuracy: 0.9255\n",
      "Epoch 45/100\n",
      "391/391 [==============================] - 2s 4ms/step - loss: 0.2067 - accuracy: 0.9273\n",
      "Epoch 46/100\n",
      "391/391 [==============================] - 2s 4ms/step - loss: 0.2043 - accuracy: 0.9283\n",
      "Epoch 47/100\n",
      "391/391 [==============================] - 2s 4ms/step - loss: 0.2038 - accuracy: 0.9299\n",
      "Epoch 48/100\n",
      "391/391 [==============================] - 2s 4ms/step - loss: 0.1993 - accuracy: 0.9296\n",
      "Epoch 49/100\n",
      "391/391 [==============================] - 2s 4ms/step - loss: 0.2051 - accuracy: 0.9288\n",
      "Epoch 50/100\n",
      "391/391 [==============================] - 2s 4ms/step - loss: 0.1928 - accuracy: 0.9335\n",
      "Epoch 51/100\n",
      "391/391 [==============================] - 2s 4ms/step - loss: 0.1944 - accuracy: 0.9321\n",
      "Epoch 52/100\n",
      "391/391 [==============================] - 2s 4ms/step - loss: 0.1960 - accuracy: 0.9323\n",
      "Epoch 53/100\n",
      "391/391 [==============================] - 2s 4ms/step - loss: 0.1854 - accuracy: 0.9355\n",
      "Epoch 54/100\n",
      "391/391 [==============================] - 2s 4ms/step - loss: 0.1844 - accuracy: 0.9362\n",
      "Epoch 55/100\n",
      "391/391 [==============================] - 2s 4ms/step - loss: 0.1817 - accuracy: 0.9388\n",
      "Epoch 56/100\n",
      "391/391 [==============================] - 2s 4ms/step - loss: 0.1857 - accuracy: 0.9353\n",
      "Epoch 57/100\n",
      "391/391 [==============================] - 2s 4ms/step - loss: 0.1805 - accuracy: 0.9363\n",
      "Epoch 58/100\n",
      "391/391 [==============================] - 2s 4ms/step - loss: 0.1818 - accuracy: 0.9382\n",
      "Epoch 59/100\n",
      "391/391 [==============================] - 2s 4ms/step - loss: 0.1768 - accuracy: 0.9381\n",
      "Epoch 60/100\n",
      "391/391 [==============================] - 2s 4ms/step - loss: 0.1845 - accuracy: 0.9374\n",
      "Epoch 61/100\n",
      "391/391 [==============================] - 2s 4ms/step - loss: 0.1731 - accuracy: 0.9402\n",
      "Epoch 62/100\n",
      "391/391 [==============================] - 2s 4ms/step - loss: 0.1736 - accuracy: 0.9407\n",
      "Epoch 63/100\n",
      "391/391 [==============================] - 2s 4ms/step - loss: 0.1711 - accuracy: 0.9410\n",
      "Epoch 64/100\n",
      "391/391 [==============================] - 2s 4ms/step - loss: 0.1815 - accuracy: 0.9374\n",
      "Epoch 65/100\n",
      "391/391 [==============================] - 2s 4ms/step - loss: 0.1643 - accuracy: 0.9426\n",
      "Epoch 66/100\n",
      "391/391 [==============================] - 2s 4ms/step - loss: 0.1695 - accuracy: 0.9420\n",
      "Epoch 67/100\n",
      "391/391 [==============================] - 2s 4ms/step - loss: 0.1649 - accuracy: 0.9437\n",
      "Epoch 68/100\n",
      "391/391 [==============================] - 2s 4ms/step - loss: 0.1668 - accuracy: 0.9424\n",
      "Epoch 69/100\n",
      "391/391 [==============================] - 2s 4ms/step - loss: 0.1690 - accuracy: 0.9424\n",
      "Epoch 70/100\n",
      "391/391 [==============================] - 2s 4ms/step - loss: 0.1676 - accuracy: 0.9427\n",
      "Epoch 71/100\n",
      "391/391 [==============================] - 2s 4ms/step - loss: 0.1615 - accuracy: 0.9439\n",
      "Epoch 72/100\n",
      "391/391 [==============================] - 2s 4ms/step - loss: 0.1635 - accuracy: 0.9441\n",
      "Epoch 73/100\n",
      "391/391 [==============================] - 2s 4ms/step - loss: 0.1583 - accuracy: 0.9472\n",
      "Epoch 74/100\n",
      "391/391 [==============================] - 2s 4ms/step - loss: 0.1584 - accuracy: 0.9468\n",
      "Epoch 75/100\n",
      "391/391 [==============================] - 2s 4ms/step - loss: 0.1640 - accuracy: 0.9432\n",
      "Epoch 76/100\n",
      "391/391 [==============================] - 2s 4ms/step - loss: 0.1621 - accuracy: 0.9445\n",
      "Epoch 77/100\n",
      "391/391 [==============================] - 2s 4ms/step - loss: 0.1629 - accuracy: 0.9449\n",
      "Epoch 78/100\n",
      "391/391 [==============================] - 2s 4ms/step - loss: 0.1567 - accuracy: 0.9477\n",
      "Epoch 79/100\n",
      "391/391 [==============================] - 2s 4ms/step - loss: 0.1546 - accuracy: 0.9475\n",
      "Epoch 80/100\n",
      "391/391 [==============================] - 2s 4ms/step - loss: 0.1597 - accuracy: 0.9440\n",
      "Epoch 81/100\n"
     ]
    },
    {
     "name": "stdout",
     "output_type": "stream",
     "text": [
      "391/391 [==============================] - 2s 4ms/step - loss: 0.1620 - accuracy: 0.9451\n",
      "Epoch 82/100\n",
      "391/391 [==============================] - 2s 4ms/step - loss: 0.1480 - accuracy: 0.9499\n",
      "Epoch 83/100\n",
      "391/391 [==============================] - 2s 4ms/step - loss: 0.1490 - accuracy: 0.9492\n",
      "Epoch 84/100\n",
      "391/391 [==============================] - 2s 4ms/step - loss: 0.1559 - accuracy: 0.9475\n",
      "Epoch 85/100\n",
      "391/391 [==============================] - 2s 4ms/step - loss: 0.1500 - accuracy: 0.9497\n",
      "Epoch 86/100\n",
      "391/391 [==============================] - 2s 4ms/step - loss: 0.1530 - accuracy: 0.9488\n",
      "Epoch 87/100\n",
      "391/391 [==============================] - 2s 4ms/step - loss: 0.1458 - accuracy: 0.9503\n",
      "Epoch 88/100\n",
      "391/391 [==============================] - 2s 4ms/step - loss: 0.1543 - accuracy: 0.9480\n",
      "Epoch 89/100\n",
      "391/391 [==============================] - 2s 4ms/step - loss: 0.1463 - accuracy: 0.9508\n",
      "Epoch 90/100\n",
      "391/391 [==============================] - 2s 4ms/step - loss: 0.1481 - accuracy: 0.9508\n",
      "Epoch 91/100\n",
      "391/391 [==============================] - 2s 4ms/step - loss: 0.1437 - accuracy: 0.9509\n",
      "Epoch 92/100\n",
      "391/391 [==============================] - 2s 4ms/step - loss: 0.1487 - accuracy: 0.9484\n",
      "Epoch 93/100\n",
      "391/391 [==============================] - 2s 4ms/step - loss: 0.1534 - accuracy: 0.9481\n",
      "Epoch 94/100\n",
      "391/391 [==============================] - 2s 4ms/step - loss: 0.1447 - accuracy: 0.9514\n",
      "Epoch 95/100\n",
      "391/391 [==============================] - 2s 4ms/step - loss: 0.1544 - accuracy: 0.9482\n",
      "Epoch 96/100\n",
      "391/391 [==============================] - 2s 4ms/step - loss: 0.1476 - accuracy: 0.9502\n",
      "Epoch 97/100\n",
      "391/391 [==============================] - 2s 4ms/step - loss: 0.1468 - accuracy: 0.9500\n",
      "Epoch 98/100\n",
      "391/391 [==============================] - 2s 4ms/step - loss: 0.1432 - accuracy: 0.9507\n",
      "Epoch 99/100\n",
      "391/391 [==============================] - 2s 4ms/step - loss: 0.1426 - accuracy: 0.9525\n",
      "Epoch 100/100\n",
      "391/391 [==============================] - 2s 4ms/step - loss: 0.1440 - accuracy: 0.9515\n"
     ]
    }
   ],
   "source": [
    "batch_size = 128\n",
    "epochs = 100\n",
    "lr = .0001\n",
    "history, cnn_model = train_network_concise(batch_size, epochs, lr)"
   ]
  },
  {
   "cell_type": "code",
   "execution_count": 32,
   "metadata": {},
   "outputs": [
    {
     "data": {
      "image/png": "[encoded data removed]",
      "text/plain": [
       "<Figure size 360x216 with 1 Axes>"
      ]
     },
     "metadata": {
      "needs_background": "light"
     },
     "output_type": "display_data"
    },
    {
     "data": {
      "image/png": "[encoded data removed]",
      "text/plain": [
       "<Figure size 360x216 with 1 Axes>"
      ]
     },
     "metadata": {
      "needs_background": "light"
     },
     "output_type": "display_data"
    }
   ],
   "source": [
    "plt.figure(figsize=(5,3))\n",
    "plt.plot(history.epoch,history.history['loss'])\n",
    "plt.title('loss')\n",
    "\n",
    "plt.figure(figsize=(5,3))\n",
    "plt.plot(history.epoch,history.history['accuracy'])\n",
    "plt.title('accuracy');"
   ]
  },
  {
   "cell_type": "code",
   "execution_count": 33,
   "metadata": {},
   "outputs": [
    {
     "name": "stdout",
     "output_type": "stream",
     "text": [
      "313/313 - 1s - loss: 0.7782 - accuracy: 0.8299 - 592ms/epoch - 2ms/step\n",
      "accuracy: 82.99%\n",
      "CPU times: user 921 ms, sys: 182 ms, total: 1.1 s\n",
      "Wall time: 804 ms\n"
     ]
    }
   ],
   "source": [
    "%%time\n",
    "x_test_reshaped = numpy.expand_dims(x_test, -1)\n",
    "scores = cnn_model.evaluate(x_test, y_test, verbose=2)\n",
    "print(\"%s: %.2f%%\" % (cnn_model.metrics_names[1], scores[1]*100))"
   ]
  },
  {
   "cell_type": "markdown",
   "metadata": {},
   "source": [
    "The classification accuracy increased from 58.06% to 82.99%"
   ]
  },
  {
   "cell_type": "code",
   "execution_count": null,
   "metadata": {},
   "outputs": [],
   "source": []
  }
 ],
 "metadata": {
  "kernelspec": {
   "display_name": "conda/2022-07-01",
   "language": "python",
   "name": "conda-2022-07-01"
  },
  "language_info": {
   "codemirror_mode": {
    "name": "ipython",
    "version": 3
   },
   "file_extension": ".py",
   "mimetype": "text/x-python",
   "name": "python",
   "nbconvert_exporter": "python",
   "pygments_lexer": "ipython3",
   "version": "3.8.13"
  }
 },
 "nbformat": 4,
 "nbformat_minor": 4
}
