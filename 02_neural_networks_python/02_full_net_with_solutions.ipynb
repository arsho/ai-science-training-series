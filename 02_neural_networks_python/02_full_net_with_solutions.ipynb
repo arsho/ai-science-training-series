{
 "cells": [
  {
   "cell_type": "code",
   "execution_count": 1,
   "id": "662a93d1",
   "metadata": {},
   "outputs": [],
   "source": [
    "%load_ext autoreload\n",
    "%autoreload 2"
   ]
  },
  {
   "cell_type": "code",
   "execution_count": 2,
   "id": "e19878bb",
   "metadata": {},
   "outputs": [],
   "source": [
    "%matplotlib inline\n",
    "\n",
    "import tensorflow as tf\n",
    "\n",
    "import numpy\n",
    "import matplotlib.pyplot as plt"
   ]
  },
  {
   "cell_type": "code",
   "execution_count": 3,
   "id": "573fda93",
   "metadata": {},
   "outputs": [],
   "source": [
    "from sklearn.model_selection import train_test_split"
   ]
  },
  {
   "cell_type": "code",
   "execution_count": 4,
   "id": "da412dba",
   "metadata": {},
   "outputs": [
    {
     "name": "stdout",
     "output_type": "stream",
     "text": [
      "(40200, 28, 28)\n",
      "(40200, 784)\n",
      "\n",
      "MNIST data loaded: train: 40200 val: 19800 test: 10000\n",
      "X_train: (40200, 784)\n",
      "y_train: (40200,)\n"
     ]
    }
   ],
   "source": [
    "# repeating the data prep from the previous notebook\n",
    "(x_train, y_train), (x_test, y_test) = tf.keras.datasets.mnist.load_data()\n",
    "# EDIT: splitting training data into train and val because this is better practice than using test data to\n",
    "# choose models/hyperparameters\n",
    "x_train, x_val, y_train, y_val = train_test_split(x_train, y_train, test_size=0.33, random_state=42)\n",
    "\n",
    "x_train = x_train.astype(numpy.float32)\n",
    "# EDIT: adding pre-processing to validation data \n",
    "x_val  = x_val.astype(numpy.float32)\n",
    "x_test  = x_test.astype(numpy.float32)\n",
    "\n",
    "x_train /= 255.\n",
    "x_val  /= 255.\n",
    "x_test  /= 255.\n",
    "\n",
    "print(x_train.shape)\n",
    "x_train = x_train.reshape(x_train.shape[0], numpy.prod(x_train[0,:,:].shape))\n",
    "x_val = x_val.reshape(x_val.shape[0], numpy.prod(x_val[0,:,:].shape))\n",
    "x_test = x_test.reshape(x_test.shape[0], numpy.prod(x_test[0,:,:].shape))\n",
    "\n",
    "print(x_train.shape)\n",
    "y_train = y_train.astype(numpy.int32)\n",
    "y_val  = y_val.astype(numpy.int32)\n",
    "y_test  = y_test.astype(numpy.int32)\n",
    "\n",
    "print()\n",
    "print('MNIST data loaded: train:',len(x_train),'val:',len(x_val), 'test:',len(x_test))\n",
    "print('X_train:', x_train.shape)\n",
    "print('y_train:', y_train.shape)\n",
    "\n",
    "# one-hot encoding:\n",
    "nb_classes = 10\n",
    "y_train_onehot = tf.keras.utils.to_categorical(y_train, nb_classes)\n",
    "y_val_onehot = tf.keras.utils.to_categorical(y_val, nb_classes)\n",
    "y_test_onehot = tf.keras.utils.to_categorical(y_test, nb_classes)"
   ]
  },
  {
   "cell_type": "code",
   "execution_count": 5,
   "id": "302994b1",
   "metadata": {},
   "outputs": [],
   "source": [
    "# Here we import an implementation of a two-layer neural network \n",
    "# this code is based on pieces of the first assignment from Stanford's CSE231n course, \n",
    "# hosted at https://github.com/cs231n/cs231n.github.io with the MIT license\n",
    "from fc_net import TwoLayerNet"
   ]
  },
  {
   "cell_type": "code",
   "execution_count": 6,
   "id": "c43e3aa5",
   "metadata": {},
   "outputs": [],
   "source": [
    "# a simple implementation of stochastic gradient descent\n",
    "def sgd(model, gradients, learning_rate):\n",
    "    for p, w in model.params.items():\n",
    "        dw = gradients[p]\n",
    "        new_weights = w - learning_rate * dw\n",
    "        model.params[p] = new_weights"
   ]
  },
  {
   "cell_type": "code",
   "execution_count": 7,
   "id": "c8316228",
   "metadata": {},
   "outputs": [],
   "source": [
    "# one training step\n",
    "def learn(model, x_train, y_train_onehot, learning_rate):\n",
    "    loss, gradients = model.loss(x_train, y_train_onehot)\n",
    "    sgd(model, gradients, learning_rate)\n",
    "    return loss"
   ]
  },
  {
   "cell_type": "code",
   "execution_count": 8,
   "id": "3faadcdb",
   "metadata": {},
   "outputs": [],
   "source": [
    "def accuracy(model, x, true_values):\n",
    "    scores = model.loss(x)\n",
    "    predictions = numpy.argmax(scores, axis=1)\n",
    "    N = predictions.shape[0]\n",
    "    # EDIT: squeezing true_values from 2d to 1d speeds up this function\n",
    "    true_values_1d = numpy.squeeze(true_values)\n",
    "    acc = (true_values_1d == predictions).sum() / N\n",
    "    return acc"
   ]
  },
  {
   "cell_type": "code",
   "execution_count": 9,
   "id": "170952f0",
   "metadata": {},
   "outputs": [],
   "source": [
    "# EDIT: decided to track how long each epoch takes\n",
    "import time"
   ]
  },
  {
   "cell_type": "code",
   "execution_count": 10,
   "id": "49754891",
   "metadata": {},
   "outputs": [],
   "source": [
    "# Here's an example training loop using this two-layer model. Can you do better? \n",
    "\n",
    "# EDIT: also track validation data\n",
    "# EDIT: factoring this out into a function to make it easier to compare options\n",
    "def training(learning_rate, batch_size, num_epochs, hidden_dim, weight_scale, x_train, y_train, y_train_onehot, x_val, y_val, y_val_onehot):\n",
    "    num_features = x_train.shape[1] # this is the number of pixels\n",
    "    nb_classes = y_train_onehot.shape[1]\n",
    "    \n",
    "    # The weights are initialized from a normal distribution with standard deviation weight_scale\n",
    "    model = TwoLayerNet(input_dim=num_features, hidden_dim=hidden_dim, num_classes=nb_classes, weight_scale=weight_scale)\n",
    "    \n",
    "    num_examples_train = x_train.shape[0]\n",
    "    num_batches_train = int(num_examples_train / batch_size)\n",
    "    \n",
    "    losses = numpy.zeros((num_batches_train*num_epochs,2)) # 1st column for training data, 2nd for validation data\n",
    "    # EDIT: also track accuracy\n",
    "    accuracies = numpy.zeros((num_batches_train*num_epochs,2)) \n",
    "    \n",
    "    indices_train = numpy.arange(num_examples_train)\n",
    "    num_examples_val = x_val.shape[0]\n",
    "    indices_val = numpy.arange(num_examples_val)\n",
    "\n",
    "    i = 0\n",
    "    for epoch in range(0, num_epochs):\n",
    "        start_epoch = time.time()\n",
    "        # in each epoch, we loop over all of the training examples\n",
    "        for step in range(0, num_batches_train):\n",
    "            # grabbing the next training batch\n",
    "            offset_train = step * batch_size\n",
    "            batch_range_train = range(offset_train, offset_train+batch_size)\n",
    "            x_train_batch = x_train[batch_range_train, :]\n",
    "            # EDIT: keep around non-onehot labels as well for accuracy calculation\n",
    "            y_train_onehot_batch = y_train_onehot[batch_range_train,:]\n",
    "            y_train_batch = y_train[batch_range_train,numpy.newaxis]\n",
    "\n",
    "            # one approach: grab a random validation batch (random offset into number of validation examples)\n",
    "            offset_val = numpy.random.randint(low=0, high=num_examples_val-batch_size)\n",
    "            batch_range_val = range(offset_val, offset_val+batch_size)\n",
    "            x_val_batch = x_val[batch_range_val, :]\n",
    "            y_val_onehot_batch = y_val_onehot[batch_range_val,:]\n",
    "            y_val_batch = y_val[batch_range_val,numpy.newaxis]\n",
    "\n",
    "            # feed the next batch in to do one sgd step\n",
    "            loss_train = learn(model, x_train_batch, y_train_onehot_batch, learning_rate)\n",
    "\n",
    "            # check training & validation loss & accuracy\n",
    "            losses[i,0] = loss_train\n",
    "            \n",
    "            # could save time by commenting out the next three lines and only tracking at the epoch level\n",
    "            accuracies[i,0] = accuracy(model, x_train_batch, y_train_batch)\n",
    "            losses[i,1], _ = model.loss(x_val_batch, y_val_onehot_batch)\n",
    "            accuracies[i,1] = accuracy(model, x_val_batch, y_val_batch)\n",
    "            i += 1\n",
    "\n",
    "        # slower, so we're only doing this once per epoch: checking accuracy on all of the data at once\n",
    "        acc_train = accuracy(model, x_train, y_train)\n",
    "        acc_val = accuracy(model, x_val, y_val)\n",
    "        \n",
    "        # reshuffle the data so that we get a new set of batches\n",
    "        numpy.random.shuffle(indices_train)\n",
    "        x_train = x_train[indices_train,:]\n",
    "        y_train = y_train[indices_train] # keep this shuffled the same way for use in accuracy calculation\n",
    "        y_train_onehot = y_train_onehot[indices_train,:]\n",
    "\n",
    "        numpy.random.shuffle(indices_val)\n",
    "        x_val = x_val[indices_val,:]\n",
    "        y_val = y_val[indices_val] \n",
    "        y_val_onehot = y_val_onehot[indices_val,:]\n",
    "        end_epoch = time.time()\n",
    "        time_this_epoch = end_epoch - start_epoch\n",
    "        print(\"epoch %d took %.1f seconds, training loss %.5f (last batch), training accuracy %.3f, validation accuracy %.3f\" % (epoch, time_this_epoch, loss_train, acc_train, acc_val))\n",
    "    return losses, accuracies, model\n",
    "\n",
    "        "
   ]
  },
  {
   "cell_type": "code",
   "execution_count": 12,
   "id": "c0a91cf3",
   "metadata": {},
   "outputs": [
    {
     "name": "stdout",
     "output_type": "stream",
     "text": [
      "epoch 0 took 4.5 seconds, training loss 2.30256 (last batch), training accuracy 0.114, validation accuracy 0.113\n",
      "epoch 1 took 4.6 seconds, training loss 2.30254 (last batch), training accuracy 0.113, validation accuracy 0.112\n",
      "epoch 2 took 4.6 seconds, training loss 2.30253 (last batch), training accuracy 0.113, validation accuracy 0.112\n",
      "epoch 3 took 4.6 seconds, training loss 2.30252 (last batch), training accuracy 0.113, validation accuracy 0.112\n",
      "epoch 4 took 4.6 seconds, training loss 2.30253 (last batch), training accuracy 0.113, validation accuracy 0.112\n",
      "epoch 5 took 4.5 seconds, training loss 2.30250 (last batch), training accuracy 0.113, validation accuracy 0.112\n",
      "epoch 6 took 4.6 seconds, training loss 2.30239 (last batch), training accuracy 0.113, validation accuracy 0.112\n",
      "epoch 7 took 4.7 seconds, training loss 2.30248 (last batch), training accuracy 0.113, validation accuracy 0.112\n",
      "epoch 8 took 4.5 seconds, training loss 2.30240 (last batch), training accuracy 0.113, validation accuracy 0.112\n",
      "epoch 9 took 4.6 seconds, training loss 2.30241 (last batch), training accuracy 0.113, validation accuracy 0.112\n",
      "epoch 10 took 4.5 seconds, training loss 2.30238 (last batch), training accuracy 0.113, validation accuracy 0.112\n",
      "epoch 11 took 4.6 seconds, training loss 2.30230 (last batch), training accuracy 0.113, validation accuracy 0.112\n",
      "epoch 12 took 4.5 seconds, training loss 2.30245 (last batch), training accuracy 0.113, validation accuracy 0.112\n",
      "epoch 13 took 4.6 seconds, training loss 2.30238 (last batch), training accuracy 0.113, validation accuracy 0.112\n",
      "epoch 14 took 4.5 seconds, training loss 2.30233 (last batch), training accuracy 0.113, validation accuracy 0.112\n",
      "epoch 15 took 4.8 seconds, training loss 2.30237 (last batch), training accuracy 0.113, validation accuracy 0.112\n",
      "epoch 16 took 4.6 seconds, training loss 2.30207 (last batch), training accuracy 0.113, validation accuracy 0.112\n",
      "epoch 17 took 4.5 seconds, training loss 2.30219 (last batch), training accuracy 0.113, validation accuracy 0.112\n",
      "epoch 18 took 4.6 seconds, training loss 2.30215 (last batch), training accuracy 0.113, validation accuracy 0.112\n",
      "epoch 19 took 4.6 seconds, training loss 2.30202 (last batch), training accuracy 0.113, validation accuracy 0.112\n",
      "epoch 20 took 4.6 seconds, training loss 2.30206 (last batch), training accuracy 0.113, validation accuracy 0.112\n",
      "epoch 21 took 4.6 seconds, training loss 2.30234 (last batch), training accuracy 0.113, validation accuracy 0.112\n",
      "epoch 22 took 4.6 seconds, training loss 2.30216 (last batch), training accuracy 0.113, validation accuracy 0.112\n",
      "epoch 23 took 4.7 seconds, training loss 2.30199 (last batch), training accuracy 0.113, validation accuracy 0.112\n",
      "epoch 24 took 4.6 seconds, training loss 2.30232 (last batch), training accuracy 0.113, validation accuracy 0.112\n",
      "epoch 25 took 4.5 seconds, training loss 2.30192 (last batch), training accuracy 0.113, validation accuracy 0.112\n",
      "epoch 26 took 4.6 seconds, training loss 2.30193 (last batch), training accuracy 0.113, validation accuracy 0.112\n",
      "epoch 27 took 4.6 seconds, training loss 2.30219 (last batch), training accuracy 0.113, validation accuracy 0.112\n",
      "epoch 28 took 4.6 seconds, training loss 2.30219 (last batch), training accuracy 0.113, validation accuracy 0.112\n",
      "epoch 29 took 4.5 seconds, training loss 2.30194 (last batch), training accuracy 0.113, validation accuracy 0.112\n"
     ]
    },
    {
     "data": {
      "text/plain": [
       "[<matplotlib.lines.Line2D at 0x7f92557b8610>]"
      ]
     },
     "execution_count": 12,
     "metadata": {},
     "output_type": "execute_result"
    },
    {
     "data": {
      "image/png": "[encoded data removed]",
      "text/plain": [
       "<Figure size 432x288 with 2 Axes>"
      ]
     },
     "metadata": {
      "needs_background": "light"
     },
     "output_type": "display_data"
    }
   ],
   "source": [
    "# these are the hyperparameters we had in class\n",
    "learning_rate = 0.001  \n",
    "batch_size = 1000\n",
    "num_epochs = 30\n",
    "hidden_dim = 200\n",
    "weight_scale = .001\n",
    "losses, accuracies, model = training(learning_rate, batch_size, num_epochs, hidden_dim, weight_scale, x_train, y_train, y_train_onehot, x_val, y_val, y_val_onehot)\n",
    "\n",
    "# EDIT: plot training & val, loss & accuracy\n",
    "plt.figure()\n",
    "plt.subplot(2,1,1)\n",
    "plt.plot(losses[:,0])\n",
    "plt.plot(losses[:,1])\n",
    "plt.legend([\"train\", \"val\"])\n",
    "\n",
    "plt.subplot(2,1,2)\n",
    "plt.plot(accuracies[:,0])\n",
    "plt.plot(accuracies[:,1])"
   ]
  },
  {
   "cell_type": "markdown",
   "id": "a2dd5728",
   "metadata": {},
   "source": [
    "# Homework: improve the accuracy of this model. "
   ]
  },
  {
   "cell_type": "markdown",
   "id": "faaf0515",
   "metadata": {},
   "source": [
    "Update this notebook so that the accuracy is improved. How high can you get it? You could change things directly in the notebook, such as increasing the number of epochs, changing the learning weight, changing the width of the hidden layer, etc. If you're more ambitious, you could also try changing the model definition itself by checking out the associated Python files. For example, you could add more layers to the network. The current notebook has a training accuracy of about 43%, but will vary with randomness."
   ]
  },
  {
   "cell_type": "code",
   "execution_count": 12,
   "id": "5edc9053",
   "metadata": {},
   "outputs": [
    {
     "name": "stdout",
     "output_type": "stream",
     "text": [
      "0.02917341413238523\n",
      "epoch 0 took 19.7 seconds, training loss 2.19870 (last batch), training accuracy 0.320, validation accuracy 0.321\n",
      "epoch 1 took 19.3 seconds, training loss 2.07103 (last batch), training accuracy 0.481, validation accuracy 0.481\n",
      "epoch 2 took 20.3 seconds, training loss 1.97271 (last batch), training accuracy 0.574, validation accuracy 0.576\n",
      "epoch 3 took 19.6 seconds, training loss 1.88508 (last batch), training accuracy 0.634, validation accuracy 0.633\n",
      "epoch 4 took 19.4 seconds, training loss 1.79429 (last batch), training accuracy 0.673, validation accuracy 0.672\n",
      "epoch 5 took 19.8 seconds, training loss 1.72432 (last batch), training accuracy 0.698, validation accuracy 0.697\n",
      "epoch 6 took 19.6 seconds, training loss 1.63582 (last batch), training accuracy 0.717, validation accuracy 0.715\n",
      "epoch 7 took 19.6 seconds, training loss 1.58334 (last batch), training accuracy 0.732, validation accuracy 0.730\n",
      "epoch 8 took 19.9 seconds, training loss 1.50073 (last batch), training accuracy 0.744, validation accuracy 0.741\n",
      "epoch 9 took 20.2 seconds, training loss 1.43429 (last batch), training accuracy 0.755, validation accuracy 0.751\n",
      "epoch 10 took 19.9 seconds, training loss 1.40040 (last batch), training accuracy 0.764, validation accuracy 0.759\n",
      "epoch 11 took 19.8 seconds, training loss 1.36937 (last batch), training accuracy 0.772, validation accuracy 0.767\n",
      "epoch 12 took 20.1 seconds, training loss 1.29619 (last batch), training accuracy 0.780, validation accuracy 0.773\n",
      "epoch 13 took 19.9 seconds, training loss 1.27441 (last batch), training accuracy 0.786, validation accuracy 0.779\n",
      "epoch 14 took 19.7 seconds, training loss 1.23461 (last batch), training accuracy 0.791, validation accuracy 0.786\n",
      "epoch 15 took 19.7 seconds, training loss 1.17921 (last batch), training accuracy 0.796, validation accuracy 0.791\n",
      "epoch 16 took 19.6 seconds, training loss 1.17304 (last batch), training accuracy 0.801, validation accuracy 0.795\n",
      "epoch 17 took 19.3 seconds, training loss 1.12421 (last batch), training accuracy 0.804, validation accuracy 0.800\n",
      "epoch 18 took 19.1 seconds, training loss 1.08708 (last batch), training accuracy 0.808, validation accuracy 0.804\n",
      "epoch 19 took 19.0 seconds, training loss 1.07734 (last batch), training accuracy 0.811, validation accuracy 0.807\n",
      "epoch 20 took 19.3 seconds, training loss 1.00315 (last batch), training accuracy 0.814, validation accuracy 0.810\n",
      "epoch 21 took 19.0 seconds, training loss 0.99779 (last batch), training accuracy 0.817, validation accuracy 0.812\n",
      "epoch 22 took 19.4 seconds, training loss 1.01471 (last batch), training accuracy 0.820, validation accuracy 0.815\n",
      "epoch 23 took 19.0 seconds, training loss 0.97475 (last batch), training accuracy 0.823, validation accuracy 0.819\n",
      "epoch 24 took 19.2 seconds, training loss 0.93910 (last batch), training accuracy 0.825, validation accuracy 0.821\n",
      "epoch 25 took 19.4 seconds, training loss 0.93319 (last batch), training accuracy 0.828, validation accuracy 0.823\n",
      "epoch 26 took 19.3 seconds, training loss 0.94203 (last batch), training accuracy 0.830, validation accuracy 0.825\n",
      "epoch 27 took 19.4 seconds, training loss 0.89142 (last batch), training accuracy 0.831, validation accuracy 0.827\n",
      "epoch 28 took 19.1 seconds, training loss 0.87503 (last batch), training accuracy 0.833, validation accuracy 0.829\n",
      "epoch 29 took 19.2 seconds, training loss 0.84922 (last batch), training accuracy 0.835, validation accuracy 0.831\n",
      "epoch 30 took 18.7 seconds, training loss 0.79448 (last batch), training accuracy 0.837, validation accuracy 0.834\n",
      "epoch 31 took 19.0 seconds, training loss 0.82135 (last batch), training accuracy 0.838, validation accuracy 0.836\n",
      "epoch 32 took 19.2 seconds, training loss 0.79417 (last batch), training accuracy 0.840, validation accuracy 0.838\n",
      "epoch 33 took 19.4 seconds, training loss 0.83687 (last batch), training accuracy 0.841, validation accuracy 0.840\n",
      "epoch 34 took 19.5 seconds, training loss 0.70225 (last batch), training accuracy 0.843, validation accuracy 0.841\n",
      "epoch 35 took 18.9 seconds, training loss 0.78033 (last batch), training accuracy 0.844, validation accuracy 0.842\n",
      "epoch 36 took 19.0 seconds, training loss 0.77643 (last batch), training accuracy 0.845, validation accuracy 0.843\n",
      "epoch 37 took 19.1 seconds, training loss 0.72608 (last batch), training accuracy 0.847, validation accuracy 0.844\n",
      "epoch 38 took 18.8 seconds, training loss 0.75099 (last batch), training accuracy 0.848, validation accuracy 0.845\n",
      "epoch 39 took 19.3 seconds, training loss 0.76723 (last batch), training accuracy 0.849, validation accuracy 0.847\n",
      "epoch 40 took 19.3 seconds, training loss 0.71939 (last batch), training accuracy 0.850, validation accuracy 0.848\n",
      "epoch 41 took 19.7 seconds, training loss 0.68046 (last batch), training accuracy 0.852, validation accuracy 0.849\n",
      "epoch 42 took 19.3 seconds, training loss 0.67535 (last batch), training accuracy 0.852, validation accuracy 0.850\n",
      "epoch 43 took 18.9 seconds, training loss 0.64923 (last batch), training accuracy 0.853, validation accuracy 0.851\n",
      "epoch 44 took 19.6 seconds, training loss 0.63758 (last batch), training accuracy 0.855, validation accuracy 0.853\n",
      "epoch 45 took 19.5 seconds, training loss 0.63662 (last batch), training accuracy 0.856, validation accuracy 0.853\n",
      "epoch 46 took 19.3 seconds, training loss 0.70286 (last batch), training accuracy 0.856, validation accuracy 0.854\n",
      "epoch 47 took 19.4 seconds, training loss 0.63935 (last batch), training accuracy 0.857, validation accuracy 0.855\n",
      "epoch 48 took 19.5 seconds, training loss 0.62967 (last batch), training accuracy 0.858, validation accuracy 0.856\n",
      "epoch 49 took 19.7 seconds, training loss 0.65837 (last batch), training accuracy 0.859, validation accuracy 0.857\n",
      "epoch 50 took 19.5 seconds, training loss 0.60616 (last batch), training accuracy 0.860, validation accuracy 0.857\n",
      "epoch 51 took 19.3 seconds, training loss 0.60933 (last batch), training accuracy 0.861, validation accuracy 0.858\n",
      "epoch 52 took 19.4 seconds, training loss 0.58020 (last batch), training accuracy 0.861, validation accuracy 0.859\n",
      "epoch 53 took 19.9 seconds, training loss 0.64939 (last batch), training accuracy 0.862, validation accuracy 0.859\n",
      "epoch 54 took 19.5 seconds, training loss 0.60132 (last batch), training accuracy 0.863, validation accuracy 0.860\n",
      "epoch 55 took 19.6 seconds, training loss 0.61489 (last batch), training accuracy 0.863, validation accuracy 0.862\n",
      "epoch 56 took 19.2 seconds, training loss 0.60157 (last batch), training accuracy 0.864, validation accuracy 0.862\n",
      "epoch 57 took 19.6 seconds, training loss 0.55005 (last batch), training accuracy 0.865, validation accuracy 0.863\n",
      "epoch 58 took 19.6 seconds, training loss 0.59664 (last batch), training accuracy 0.865, validation accuracy 0.864\n",
      "epoch 59 took 19.7 seconds, training loss 0.55457 (last batch), training accuracy 0.866, validation accuracy 0.864\n",
      "epoch 60 took 19.6 seconds, training loss 0.58369 (last batch), training accuracy 0.866, validation accuracy 0.865\n",
      "epoch 61 took 19.3 seconds, training loss 0.57081 (last batch), training accuracy 0.867, validation accuracy 0.866\n",
      "epoch 62 took 19.6 seconds, training loss 0.55104 (last batch), training accuracy 0.867, validation accuracy 0.866\n",
      "epoch 63 took 19.6 seconds, training loss 0.53588 (last batch), training accuracy 0.868, validation accuracy 0.867\n",
      "epoch 64 took 19.6 seconds, training loss 0.55504 (last batch), training accuracy 0.868, validation accuracy 0.867\n",
      "epoch 65 took 19.8 seconds, training loss 0.56273 (last batch), training accuracy 0.869, validation accuracy 0.868\n",
      "epoch 66 took 19.8 seconds, training loss 0.54948 (last batch), training accuracy 0.870, validation accuracy 0.869\n",
      "epoch 67 took 19.8 seconds, training loss 0.55029 (last batch), training accuracy 0.870, validation accuracy 0.869\n",
      "epoch 68 took 19.7 seconds, training loss 0.55355 (last batch), training accuracy 0.870, validation accuracy 0.870\n",
      "epoch 69 took 19.9 seconds, training loss 0.51116 (last batch), training accuracy 0.871, validation accuracy 0.870\n",
      "epoch 70 took 19.7 seconds, training loss 0.50853 (last batch), training accuracy 0.871, validation accuracy 0.871\n",
      "epoch 71 took 19.5 seconds, training loss 0.52286 (last batch), training accuracy 0.872, validation accuracy 0.871\n"
     ]
    },
    {
     "name": "stdout",
     "output_type": "stream",
     "text": [
      "epoch 72 took 19.6 seconds, training loss 0.50553 (last batch), training accuracy 0.872, validation accuracy 0.872\n",
      "epoch 73 took 19.9 seconds, training loss 0.48368 (last batch), training accuracy 0.873, validation accuracy 0.873\n",
      "epoch 74 took 19.3 seconds, training loss 0.50315 (last batch), training accuracy 0.874, validation accuracy 0.874\n",
      "epoch 75 took 19.5 seconds, training loss 0.52990 (last batch), training accuracy 0.874, validation accuracy 0.874\n",
      "epoch 76 took 19.4 seconds, training loss 0.50394 (last batch), training accuracy 0.875, validation accuracy 0.874\n",
      "epoch 77 took 19.8 seconds, training loss 0.52467 (last batch), training accuracy 0.875, validation accuracy 0.875\n",
      "epoch 78 took 19.7 seconds, training loss 0.51464 (last batch), training accuracy 0.876, validation accuracy 0.875\n",
      "epoch 79 took 19.4 seconds, training loss 0.46561 (last batch), training accuracy 0.876, validation accuracy 0.876\n",
      "epoch 80 took 19.6 seconds, training loss 0.47973 (last batch), training accuracy 0.876, validation accuracy 0.876\n",
      "epoch 81 took 19.5 seconds, training loss 0.49126 (last batch), training accuracy 0.877, validation accuracy 0.877\n",
      "epoch 82 took 19.7 seconds, training loss 0.49487 (last batch), training accuracy 0.877, validation accuracy 0.877\n",
      "epoch 83 took 19.4 seconds, training loss 0.48533 (last batch), training accuracy 0.878, validation accuracy 0.877\n",
      "epoch 84 took 19.8 seconds, training loss 0.44788 (last batch), training accuracy 0.878, validation accuracy 0.878\n",
      "epoch 85 took 19.4 seconds, training loss 0.57152 (last batch), training accuracy 0.878, validation accuracy 0.878\n",
      "epoch 86 took 19.7 seconds, training loss 0.50581 (last batch), training accuracy 0.879, validation accuracy 0.879\n",
      "epoch 87 took 19.3 seconds, training loss 0.53157 (last batch), training accuracy 0.879, validation accuracy 0.879\n",
      "epoch 88 took 19.6 seconds, training loss 0.48940 (last batch), training accuracy 0.880, validation accuracy 0.879\n",
      "epoch 89 took 19.6 seconds, training loss 0.48035 (last batch), training accuracy 0.880, validation accuracy 0.880\n",
      "epoch 90 took 19.6 seconds, training loss 0.45495 (last batch), training accuracy 0.880, validation accuracy 0.880\n",
      "epoch 91 took 19.1 seconds, training loss 0.48597 (last batch), training accuracy 0.881, validation accuracy 0.880\n",
      "epoch 92 took 19.2 seconds, training loss 0.44778 (last batch), training accuracy 0.881, validation accuracy 0.881\n",
      "epoch 93 took 19.9 seconds, training loss 0.45574 (last batch), training accuracy 0.881, validation accuracy 0.881\n",
      "epoch 94 took 19.6 seconds, training loss 0.46850 (last batch), training accuracy 0.882, validation accuracy 0.881\n",
      "epoch 95 took 19.6 seconds, training loss 0.51759 (last batch), training accuracy 0.882, validation accuracy 0.882\n",
      "epoch 96 took 19.5 seconds, training loss 0.47171 (last batch), training accuracy 0.882, validation accuracy 0.882\n",
      "epoch 97 took 20.0 seconds, training loss 0.51373 (last batch), training accuracy 0.883, validation accuracy 0.882\n",
      "epoch 98 took 19.7 seconds, training loss 0.47584 (last batch), training accuracy 0.883, validation accuracy 0.883\n",
      "epoch 99 took 19.4 seconds, training loss 0.45692 (last batch), training accuracy 0.883, validation accuracy 0.883\n"
     ]
    },
    {
     "data": {
      "text/plain": [
       "[<matplotlib.lines.Line2D at 0x7f3c44b5e970>]"
      ]
     },
     "execution_count": 12,
     "metadata": {},
     "output_type": "execute_result"
    },
    {
     "data": {
      "image/png": "[encoded data removed]",
      "text/plain": [
       "<Figure size 432x288 with 2 Axes>"
      ]
     },
     "metadata": {
      "needs_background": "light"
     },
     "output_type": "display_data"
    }
   ],
   "source": [
    "# Here's an example network that is much more accurate. I experimented with each hyperparameter one at a time\n",
    "# The training took about 11 seconds per epoch on my laptop, and the final validation accuracy was 94%\n",
    "# It's much slower on ThetaGPU's single-gpu queue, since it doesn't take advantage of a GPU and is stuck using\n",
    "# a portion of one of the node's CPUs. \n",
    "# (With some effort, you can convert everything to CuPy instead of NumPy and then it runs on the GPU)\n",
    "# If you don't have your own computer to run on, you might want to use Google Colab. \n",
    "\n",
    "learning_rate = 0.001  \n",
    "batch_size = 500\n",
    "num_epochs = 100\n",
    "hidden_dim = 2000\n",
    "\n",
    "# epoch 99 took 19.4 seconds, training loss 0.45692 (last batch), training accuracy 0.883, validation accuracy 0.883\n",
    "\n",
    "# learning_rate = 0.001  \n",
    "# batch_size = 500\n",
    "# num_epochs = 50\n",
    "# hidden_dim = 1000\n",
    "# epoch 49 took 12.4 seconds, training loss 0.69044 (last batch), training accuracy 0.855, validation accuracy 0.853\n",
    "\n",
    "# learning_rate = 0.0001  \n",
    "# batch_size = 500\n",
    "# num_epochs = 100\n",
    "# hidden_dim = 1000\n",
    "# epoch 99 took 12.1 seconds, training loss 1.64111 (last batch), training accuracy 0.710, validation accuracy 0.710\n",
    "\n",
    "# learning_rate = 0.0001  \n",
    "# batch_size = 1000\n",
    "# num_epochs = 100\n",
    "# hidden_dim = 500\n",
    "# epoch 99 took 7.2 seconds, training loss 1.97384 (last batch), training accuracy 0.481, validation accuracy 0.479\n",
    "\n",
    "# Try Xavier initialization, although need to use same scaling for both layers, so averaging\n",
    "# https://keras.io/api/layers/initializers/\n",
    "size_input = x_train.shape[1]\n",
    "weight_scale1 = numpy.sqrt(2./(size_input+hidden_dim))\n",
    "weight_scale2 = numpy.sqrt(2./(hidden_dim+nb_classes))\n",
    "weight_scale = (weight_scale1 + weight_scale2)/2\n",
    "print(weight_scale)\n",
    "losses, accuracies, model = training(learning_rate, batch_size, num_epochs, hidden_dim, weight_scale, x_train, y_train, y_train_onehot, x_val, y_val, y_val_onehot)\n",
    "\n",
    "plt.figure()\n",
    "plt.subplot(2,1,1)\n",
    "plt.plot(losses[:,0])\n",
    "plt.plot(losses[:,1])\n",
    "plt.legend([\"train\", \"val\"])\n",
    "\n",
    "plt.subplot(2,1,2)\n",
    "plt.plot(accuracies[:,0])\n",
    "plt.plot(accuracies[:,1])"
   ]
  },
  {
   "cell_type": "code",
   "execution_count": null,
   "id": "dacaeba2",
   "metadata": {},
   "outputs": [],
   "source": []
  }
 ],
 "metadata": {
  "kernelspec": {
   "display_name": "conda/2022-07-01",
   "language": "python",
   "name": "conda-2022-07-01"
  },
  "language_info": {
   "codemirror_mode": {
    "name": "ipython",
    "version": 3
   },
   "file_extension": ".py",
   "mimetype": "text/x-python",
   "name": "python",
   "nbconvert_exporter": "python",
   "pygments_lexer": "ipython3",
   "version": "3.8.13"
  }
 },
 "nbformat": 4,
 "nbformat_minor": 5
}
